{
 "cells": [
  {
   "cell_type": "code",
   "execution_count": 1,
   "id": "0a9d99f3",
   "metadata": {},
   "outputs": [],
   "source": [
    "# first, we import the relevent packages.\n",
    "\n",
    "# for data manipulation\n",
    "import pandas as pd\n",
    "import datetime as dt\n",
    "\n",
    "# to scrape the web\n",
    "from bs4 import BeautifulSoup as soupy\n",
    "import requests\n",
    "import time\n",
    "import random\n",
    "\n",
    "# dealing with consistent ssl error\n",
    "import ssl\n",
    "\n",
    "# for maths\n",
    "import numpy as np\n",
    "import matplotlib.pyplot as plt\n",
    "import seaborn as sns\n",
    "\n",
    "# for writing dictionaries and others as files\n",
    "import json"
   ]
  },
  {
   "cell_type": "code",
   "execution_count": 2,
   "id": "47bec647",
   "metadata": {},
   "outputs": [],
   "source": [
    "# set the url for the site with the states\n",
    "states_url = 'https://state.1keydata.com'"
   ]
  },
  {
   "cell_type": "code",
   "execution_count": 3,
   "id": "0fd9d13c",
   "metadata": {},
   "outputs": [
    {
     "name": "stderr",
     "output_type": "stream",
     "text": [
      "C:\\Python39\\lib\\site-packages\\urllib3\\connectionpool.py:1013: InsecureRequestWarning: Unverified HTTPS request is being made to host 'state.1keydata.com'. Adding certificate verification is strongly advised. See: https://urllib3.readthedocs.io/en/1.26.x/advanced-usage.html#ssl-warnings\n",
      "  warnings.warn(\n"
     ]
    }
   ],
   "source": [
    "# make a connection to the page\n",
    "states_page = requests.get(states_url, verify=False)"
   ]
  },
  {
   "cell_type": "code",
   "execution_count": 4,
   "id": "fe70cbd9",
   "metadata": {},
   "outputs": [
    {
     "data": {
      "text/plain": [
       "200"
      ]
     },
     "execution_count": 4,
     "metadata": {},
     "output_type": "execute_result"
    }
   ],
   "source": [
    "# verify the connection\n",
    "states_page.status_code"
   ]
  },
  {
   "cell_type": "code",
   "execution_count": 5,
   "id": "db7013c6",
   "metadata": {},
   "outputs": [],
   "source": [
    "# get the actual html content\n",
    "states_readable = soupy(states_page.content, 'html')"
   ]
  },
  {
   "cell_type": "code",
   "execution_count": 6,
   "id": "10dc0b84",
   "metadata": {},
   "outputs": [],
   "source": [
    "# now we need to initialize a list to store the states\n",
    "# we initialize a list with 50 none values\n",
    "# this makes it much faster to insert the value into the list\n",
    "list_of_states = [None] * 50"
   ]
  },
  {
   "cell_type": "code",
   "execution_count": 7,
   "id": "68f1575c",
   "metadata": {},
   "outputs": [],
   "source": [
    "# now we find all the href tags \n",
    "subset_states_readable = states_readable.find('div', {'id' : 'colwrap'})\n",
    "href_all = subset_states_readable.find_all('a', href=True)"
   ]
  },
  {
   "cell_type": "code",
   "execution_count": 8,
   "id": "bc4380cd",
   "metadata": {},
   "outputs": [],
   "source": [
    "# then we get the text for each of the a tag values\n",
    "for index, state in enumerate(href_all):\n",
    "    value = state.text\n",
    "    value = value.replace(' ', '_')\n",
    "    list_of_states[index] = value"
   ]
  },
  {
   "cell_type": "code",
   "execution_count": 9,
   "id": "9c6fa2c7",
   "metadata": {},
   "outputs": [],
   "source": [
    "# we use a list comprehension to create the urls\n",
    "list_of_states = [['https://en.wikipedia.org/wiki/List_of_United_States_representatives_from_' + a, a] for a in list_of_states]"
   ]
  },
  {
   "cell_type": "code",
   "execution_count": 10,
   "id": "c6f3b567",
   "metadata": {},
   "outputs": [],
   "source": [
    "# temporary ssl fix\n",
    "ssl._create_default_https_context = ssl._create_unverified_context"
   ]
  },
  {
   "cell_type": "code",
   "execution_count": 11,
   "id": "68f117db",
   "metadata": {},
   "outputs": [],
   "source": [
    "# initialize a list for our pandas dataframes\n",
    "# this is more efficient than appending multiple data frames\n",
    "list_of_data_frames = [None] * 50\n",
    "# get each table as a pandas data frame\n",
    "# store it in the list\n",
    "for index, (url, state) in enumerate(list_of_states):\n",
    "    sleep = 4\n",
    "    try:\n",
    "        table = pd.read_html(url)[0].iloc[:,[0,1,2,3]]\n",
    "        table.rename({table.columns[0]: 'Representative'}, axis = 'columns', inplace = True)\n",
    "        for i in range(1,4):\n",
    "            if 'Democratic' in table.iloc[:,i].values:\n",
    "                table.rename({table.columns[i]: 'Party'}, axis = 'columns', inplace = True)\n",
    "            elif ('1st' or 'At-large') in table.iloc[:,i].values:\n",
    "                table.rename({table.columns[i]: 'District'}, axis = 'columns', inplace = True)\n",
    "            else:\n",
    "                table.rename({table.columns[i]: 'Years'}, axis = 'columns', inplace = True)\n",
    "        table['State'] = state\n",
    "        table[['Start', 'End']] = table['Years'].str.split('–' or '-', expand = True)\n",
    "        table = table.drop(columns = 'Years')\n",
    "        table['Start'] = table['Start'].str.strip()\n",
    "        table['End'] = table['End'].str.strip()\n",
    "        table['Start'] = pd.to_datetime(table['Start'], errors='coerce')\n",
    "        table['End'] = table['End'].replace(['Present', 'present'], 'November 28, 2021')\n",
    "        table['End'] = pd.to_datetime(table['End'], errors='coerce')\n",
    "        list_of_data_frames[index] = table\n",
    "        time.sleep(random.uniform(0,sleep))\n",
    "    except:\n",
    "        time.sleep(random.uniform(0,sleep))\n",
    "        pass"
   ]
  },
  {
   "cell_type": "code",
   "execution_count": 12,
   "id": "128baf1f",
   "metadata": {},
   "outputs": [],
   "source": [
    "res = [i for i in range(len(list_of_data_frames)) if list_of_data_frames[i] is None]"
   ]
  },
  {
   "cell_type": "code",
   "execution_count": 13,
   "id": "08b618c3",
   "metadata": {},
   "outputs": [
    {
     "data": {
      "text/plain": [
       "[1, 7, 9, 10, 15, 18, 27, 49]"
      ]
     },
     "execution_count": 13,
     "metadata": {},
     "output_type": "execute_result"
    }
   ],
   "source": [
    "# this is a list of indexes where we did not store a dataframe\n",
    "# we will have to go back and scrape these values individually\n",
    "res"
   ]
  },
  {
   "cell_type": "code",
   "execution_count": 14,
   "id": "b516ed11",
   "metadata": {},
   "outputs": [],
   "source": [
    "skel = pd.concat(list_of_data_frames, axis = 0, ignore_index = True)"
   ]
  },
  {
   "cell_type": "code",
   "execution_count": 15,
   "id": "0cf5c07e",
   "metadata": {},
   "outputs": [],
   "source": [
    "skel = skel[skel['Start'].isnull() == False]"
   ]
  },
  {
   "cell_type": "code",
   "execution_count": 16,
   "id": "793a222b",
   "metadata": {},
   "outputs": [],
   "source": [
    "skel = skel[skel['End'].isnull() == False]"
   ]
  },
  {
   "cell_type": "code",
   "execution_count": 17,
   "id": "325eb073",
   "metadata": {},
   "outputs": [],
   "source": [
    "skel['Start_Year'] = skel['Start'].dt.year"
   ]
  },
  {
   "cell_type": "code",
   "execution_count": 18,
   "id": "d075b583",
   "metadata": {},
   "outputs": [],
   "source": [
    "skel['End_Year'] = skel['End'].dt.year"
   ]
  },
  {
   "cell_type": "code",
   "execution_count": 19,
   "id": "f3a617c3",
   "metadata": {},
   "outputs": [],
   "source": [
    "skel['Duration'] = skel['End'] - skel['Start']"
   ]
  },
  {
   "cell_type": "code",
   "execution_count": 20,
   "id": "2315c313",
   "metadata": {},
   "outputs": [],
   "source": [
    "skel['Duration_simple'] = pd.Series(skel['Duration']).dt.days/365"
   ]
  },
  {
   "cell_type": "code",
   "execution_count": 21,
   "id": "a2b36389",
   "metadata": {
    "scrolled": true
   },
   "outputs": [
    {
     "data": {
      "text/html": [
       "<div>\n",
       "<style scoped>\n",
       "    .dataframe tbody tr th:only-of-type {\n",
       "        vertical-align: middle;\n",
       "    }\n",
       "\n",
       "    .dataframe tbody tr th {\n",
       "        vertical-align: top;\n",
       "    }\n",
       "\n",
       "    .dataframe thead th {\n",
       "        text-align: right;\n",
       "    }\n",
       "</style>\n",
       "<table border=\"1\" class=\"dataframe\">\n",
       "  <thead>\n",
       "    <tr style=\"text-align: right;\">\n",
       "      <th></th>\n",
       "      <th>Representative</th>\n",
       "      <th>Party</th>\n",
       "      <th>District</th>\n",
       "      <th>State</th>\n",
       "      <th>Start</th>\n",
       "      <th>End</th>\n",
       "      <th>Start_Year</th>\n",
       "      <th>End_Year</th>\n",
       "      <th>Duration</th>\n",
       "      <th>Duration_simple</th>\n",
       "    </tr>\n",
       "  </thead>\n",
       "  <tbody>\n",
       "    <tr>\n",
       "      <th>0</th>\n",
       "      <td>James Abercrombie</td>\n",
       "      <td>Whig</td>\n",
       "      <td>2nd</td>\n",
       "      <td>Alabama</td>\n",
       "      <td>1851-03-04</td>\n",
       "      <td>1855-03-04</td>\n",
       "      <td>1851</td>\n",
       "      <td>1855</td>\n",
       "      <td>1461 days</td>\n",
       "      <td>4.002740</td>\n",
       "    </tr>\n",
       "    <tr>\n",
       "      <th>1</th>\n",
       "      <td>John Abercrombie</td>\n",
       "      <td>Democratic</td>\n",
       "      <td>At-large</td>\n",
       "      <td>Alabama</td>\n",
       "      <td>1913-03-04</td>\n",
       "      <td>1917-03-04</td>\n",
       "      <td>1913</td>\n",
       "      <td>1917</td>\n",
       "      <td>1461 days</td>\n",
       "      <td>4.002740</td>\n",
       "    </tr>\n",
       "    <tr>\n",
       "      <th>2</th>\n",
       "      <td>Robert Aderholt</td>\n",
       "      <td>Republican</td>\n",
       "      <td>4th</td>\n",
       "      <td>Alabama</td>\n",
       "      <td>1997-01-03</td>\n",
       "      <td>2021-11-28</td>\n",
       "      <td>1997</td>\n",
       "      <td>2021</td>\n",
       "      <td>9095 days</td>\n",
       "      <td>24.917808</td>\n",
       "    </tr>\n",
       "    <tr>\n",
       "      <th>3</th>\n",
       "      <td>Truman H. Aldrich</td>\n",
       "      <td>Republican</td>\n",
       "      <td>9th</td>\n",
       "      <td>Alabama</td>\n",
       "      <td>1896-06-09</td>\n",
       "      <td>1897-03-04</td>\n",
       "      <td>1896</td>\n",
       "      <td>1897</td>\n",
       "      <td>268 days</td>\n",
       "      <td>0.734247</td>\n",
       "    </tr>\n",
       "    <tr>\n",
       "      <th>4</th>\n",
       "      <td>William F. Aldrich</td>\n",
       "      <td>Republican</td>\n",
       "      <td>4th</td>\n",
       "      <td>Alabama</td>\n",
       "      <td>1896-03-13</td>\n",
       "      <td>1897-03-04</td>\n",
       "      <td>1896</td>\n",
       "      <td>1897</td>\n",
       "      <td>356 days</td>\n",
       "      <td>0.975342</td>\n",
       "    </tr>\n",
       "    <tr>\n",
       "      <th>...</th>\n",
       "      <td>...</td>\n",
       "      <td>...</td>\n",
       "      <td>...</td>\n",
       "      <td>...</td>\n",
       "      <td>...</td>\n",
       "      <td>...</td>\n",
       "      <td>...</td>\n",
       "      <td>...</td>\n",
       "      <td>...</td>\n",
       "      <td>...</td>\n",
       "    </tr>\n",
       "    <tr>\n",
       "      <th>13859</th>\n",
       "      <td>Gardner R. Withrow</td>\n",
       "      <td>Republican</td>\n",
       "      <td>3rd</td>\n",
       "      <td>Wisconsin</td>\n",
       "      <td>1933-03-04</td>\n",
       "      <td>1935-01-03</td>\n",
       "      <td>1933</td>\n",
       "      <td>1935</td>\n",
       "      <td>670 days</td>\n",
       "      <td>1.835616</td>\n",
       "    </tr>\n",
       "    <tr>\n",
       "      <th>13860</th>\n",
       "      <td>Gardner R. Withrow</td>\n",
       "      <td>Progressive</td>\n",
       "      <td>3rd</td>\n",
       "      <td>Wisconsin</td>\n",
       "      <td>1935-01-03</td>\n",
       "      <td>1939-01-03</td>\n",
       "      <td>1935</td>\n",
       "      <td>1939</td>\n",
       "      <td>1461 days</td>\n",
       "      <td>4.002740</td>\n",
       "    </tr>\n",
       "    <tr>\n",
       "      <th>13861</th>\n",
       "      <td>Gardner R. Withrow</td>\n",
       "      <td>Republican</td>\n",
       "      <td>3rd</td>\n",
       "      <td>Wisconsin</td>\n",
       "      <td>1949-01-03</td>\n",
       "      <td>1961-01-03</td>\n",
       "      <td>1949</td>\n",
       "      <td>1961</td>\n",
       "      <td>4383 days</td>\n",
       "      <td>12.008219</td>\n",
       "    </tr>\n",
       "    <tr>\n",
       "      <th>13862</th>\n",
       "      <td>Gilbert M. Woodward</td>\n",
       "      <td>Democratic</td>\n",
       "      <td>7th</td>\n",
       "      <td>Wisconsin</td>\n",
       "      <td>1883-03-04</td>\n",
       "      <td>1885-03-03</td>\n",
       "      <td>1883</td>\n",
       "      <td>1885</td>\n",
       "      <td>730 days</td>\n",
       "      <td>2.000000</td>\n",
       "    </tr>\n",
       "    <tr>\n",
       "      <th>13863</th>\n",
       "      <td>Clement J. Zablocki</td>\n",
       "      <td>Democratic</td>\n",
       "      <td>4th</td>\n",
       "      <td>Wisconsin</td>\n",
       "      <td>1949-01-03</td>\n",
       "      <td>1983-12-03</td>\n",
       "      <td>1949</td>\n",
       "      <td>1983</td>\n",
       "      <td>12752 days</td>\n",
       "      <td>34.936986</td>\n",
       "    </tr>\n",
       "  </tbody>\n",
       "</table>\n",
       "<p>13799 rows × 10 columns</p>\n",
       "</div>"
      ],
      "text/plain": [
       "            Representative        Party  District      State      Start  \\\n",
       "0        James Abercrombie         Whig       2nd    Alabama 1851-03-04   \n",
       "1         John Abercrombie   Democratic  At-large    Alabama 1913-03-04   \n",
       "2          Robert Aderholt   Republican       4th    Alabama 1997-01-03   \n",
       "3        Truman H. Aldrich   Republican       9th    Alabama 1896-06-09   \n",
       "4       William F. Aldrich   Republican       4th    Alabama 1896-03-13   \n",
       "...                    ...          ...       ...        ...        ...   \n",
       "13859   Gardner R. Withrow   Republican       3rd  Wisconsin 1933-03-04   \n",
       "13860   Gardner R. Withrow  Progressive       3rd  Wisconsin 1935-01-03   \n",
       "13861   Gardner R. Withrow   Republican       3rd  Wisconsin 1949-01-03   \n",
       "13862  Gilbert M. Woodward   Democratic       7th  Wisconsin 1883-03-04   \n",
       "13863  Clement J. Zablocki   Democratic       4th  Wisconsin 1949-01-03   \n",
       "\n",
       "             End  Start_Year  End_Year   Duration  Duration_simple  \n",
       "0     1855-03-04        1851      1855  1461 days         4.002740  \n",
       "1     1917-03-04        1913      1917  1461 days         4.002740  \n",
       "2     2021-11-28        1997      2021  9095 days        24.917808  \n",
       "3     1897-03-04        1896      1897   268 days         0.734247  \n",
       "4     1897-03-04        1896      1897   356 days         0.975342  \n",
       "...          ...         ...       ...        ...              ...  \n",
       "13859 1935-01-03        1933      1935   670 days         1.835616  \n",
       "13860 1939-01-03        1935      1939  1461 days         4.002740  \n",
       "13861 1961-01-03        1949      1961  4383 days        12.008219  \n",
       "13862 1885-03-03        1883      1885   730 days         2.000000  \n",
       "13863 1983-12-03        1949      1983 12752 days        34.936986  \n",
       "\n",
       "[13799 rows x 10 columns]"
      ]
     },
     "execution_count": 21,
     "metadata": {},
     "output_type": "execute_result"
    }
   ],
   "source": [
    "skel"
   ]
  },
  {
   "cell_type": "code",
   "execution_count": 36,
   "id": "c34af10d",
   "metadata": {},
   "outputs": [],
   "source": [
    "skel_2 = skel[skel['End_Year'] > 1950].copy(deep = True)"
   ]
  },
  {
   "cell_type": "code",
   "execution_count": 22,
   "id": "2b707fad",
   "metadata": {},
   "outputs": [],
   "source": [
    "dict_1 = {}\n",
    "year_init = 1789"
   ]
  },
  {
   "cell_type": "code",
   "execution_count": 23,
   "id": "2a49f291",
   "metadata": {},
   "outputs": [],
   "source": [
    "for i in range(1, 117):\n",
    "    dict_1[year_init] = i\n",
    "    year_init = year_init + 2"
   ]
  },
  {
   "cell_type": "code",
   "execution_count": 24,
   "id": "e1e4824c",
   "metadata": {
    "scrolled": false
   },
   "outputs": [],
   "source": [
    "# for year, congress in dict_1.items():\n",
    "#     skel[str(congress)] = \"\""
   ]
  },
  {
   "cell_type": "code",
   "execution_count": 25,
   "id": "170e50c9",
   "metadata": {
    "scrolled": true
   },
   "outputs": [],
   "source": [
    "# for index, row in skel.iterrows():\n",
    "#     for year, congress in dict_1.items():\n",
    "#         if row['Start'].year <= year:\n",
    "#             if row['End'].year > (year + 1):\n",
    "#                 skel.at[index,str(congress)] = 1\n",
    "#             else:\n",
    "#                 skel.at[index,str(congress)] = 0\n",
    "#         else:\n",
    "#             skel.at[index,str(congress)] = 0"
   ]
  },
  {
   "cell_type": "code",
   "execution_count": 26,
   "id": "f73fe9d4",
   "metadata": {},
   "outputs": [],
   "source": [
    "years_congress_starts = dict_1.keys()"
   ]
  },
  {
   "cell_type": "code",
   "execution_count": 27,
   "id": "6f8320fb",
   "metadata": {},
   "outputs": [],
   "source": [
    "skel_restrict = skel.query('Start_Year in @years_congress_starts')"
   ]
  },
  {
   "cell_type": "code",
   "execution_count": 38,
   "id": "38df47e9",
   "metadata": {},
   "outputs": [],
   "source": [
    "df = pd.DataFrame()"
   ]
  },
  {
   "cell_type": "code",
   "execution_count": 29,
   "id": "b016f6ce",
   "metadata": {},
   "outputs": [],
   "source": [
    "skel_2 = skel.copy(deep=True)"
   ]
  },
  {
   "cell_type": "code",
   "execution_count": null,
   "id": "8090a038",
   "metadata": {
    "scrolled": true
   },
   "outputs": [
    {
     "name": "stderr",
     "output_type": "stream",
     "text": [
      "C:\\Users\\cmacd\\AppData\\Local\\Temp/ipykernel_21800/1269312111.py:20: SettingWithCopyWarning: \n",
      "A value is trying to be set on a copy of a slice from a DataFrame.\n",
      "Try using .loc[row_indexer,col_indexer] = value instead\n",
      "\n",
      "See the caveats in the documentation: https://pandas.pydata.org/pandas-docs/stable/user_guide/indexing.html#returning-a-view-versus-a-copy\n",
      "  df_each[-1:]['End_Year'] = df_each[-1:]['Start_Year'] + 2\n"
     ]
    }
   ],
   "source": [
    "for index, row in skel_2.iterrows():\n",
    "    df_each = pd.DataFrame()\n",
    "    if row['Start_Year'] in years_congress_starts:\n",
    "        while (row['Start_Year'] + 2) - row['End_Year'] > 0:\n",
    "            df_each = df_each.append(row)\n",
    "            row['Start_Year'] = row['Start_Year'] + 2\n",
    "            df_each[-1:]['End_Year'] = df_each[-1:]['Start_Year'] + 2\n",
    "        else:\n",
    "            df_each = df_each.append(row)\n",
    "        df = df.append(df_each)\n",
    "    else:\n",
    "        if (row['Start_Year'] + 1) - row['End_Year'] == 0:\n",
    "            df_each = df_each.append(row)\n",
    "        elif (row['Start_Year'] + 1) - row['End_Year'] > 0:\n",
    "            df_each = df_each.append(row)\n",
    "            row['Start_Year'] = row['Start_Year'] + 1\n",
    "            while (row['Start_Year'] + 2) - row['End_Year'] > 0:\n",
    "                df_each = df_each.append(row)\n",
    "                row['Start_Year'] = row['Start_Year'] + 2\n",
    "                df_each[-1:]['End_Year'] = df_each[-1:]['Start_Year'] + 2\n",
    "            if (row['Start_Year'] + 2) - row['End_Year'] == 0:\n",
    "                df_each = df_each.append(row)\n",
    "        df = df.append(df_each)     "
   ]
  }
 ],
 "metadata": {
  "kernelspec": {
   "display_name": "Python 3 (ipykernel)",
   "language": "python",
   "name": "python3"
  },
  "language_info": {
   "codemirror_mode": {
    "name": "ipython",
    "version": 3
   },
   "file_extension": ".py",
   "mimetype": "text/x-python",
   "name": "python",
   "nbconvert_exporter": "python",
   "pygments_lexer": "ipython3",
   "version": "3.9.7"
  }
 },
 "nbformat": 4,
 "nbformat_minor": 5
}
