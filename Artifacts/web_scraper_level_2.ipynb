{
 "cells": [
  {
   "cell_type": "code",
   "execution_count": 9,
   "id": "65acf6c6",
   "metadata": {},
   "outputs": [],
   "source": [
    "# import the relevant packages\n",
    "\n",
    "# for getting the connection\n",
    "import requests\n",
    "\n",
    "# for data frame manipulation\n",
    "import pandas as pd\n",
    "import lxml\n",
    "\n",
    "# for the actual scraping\n",
    "from bs4 import BeautifulSoup as soupy\n",
    "import wikipedia as wiki\n",
    "import time\n",
    "import random\n",
    "\n",
    "# for maths\n",
    "import numpy as np\n",
    "\n",
    "# for writing dictionary to text file\n",
    "import json "
   ]
  },
  {
   "cell_type": "code",
   "execution_count": 19,
   "id": "6c6c8af5",
   "metadata": {},
   "outputs": [
    {
     "ename": "FileNotFoundError",
     "evalue": "[Errno 2] No such file or directory: '..\\\\district_level_urls.txt'",
     "output_type": "error",
     "traceback": [
      "\u001b[1;31m---------------------------------------------------------------------------\u001b[0m",
      "\u001b[1;31mFileNotFoundError\u001b[0m                         Traceback (most recent call last)",
      "\u001b[1;32m~\\AppData\\Local\\Temp/ipykernel_12308/1499561409.py\u001b[0m in \u001b[0;36m<module>\u001b[1;34m\u001b[0m\n\u001b[1;32m----> 1\u001b[1;33m \u001b[1;32mwith\u001b[0m \u001b[0mopen\u001b[0m\u001b[1;33m(\u001b[0m\u001b[1;34m'..\\district_level_urls.txt'\u001b[0m\u001b[1;33m)\u001b[0m \u001b[1;32mas\u001b[0m \u001b[0mf\u001b[0m\u001b[1;33m:\u001b[0m\u001b[1;33m\u001b[0m\u001b[1;33m\u001b[0m\u001b[0m\n\u001b[0m\u001b[0;32m      2\u001b[0m     \u001b[0mdata\u001b[0m \u001b[1;33m=\u001b[0m \u001b[0mf\u001b[0m\u001b[1;33m.\u001b[0m\u001b[0mread\u001b[0m\u001b[1;33m(\u001b[0m\u001b[1;33m)\u001b[0m\u001b[1;33m\u001b[0m\u001b[1;33m\u001b[0m\u001b[0m\n\u001b[0;32m      3\u001b[0m \u001b[0murl_district_dict_1\u001b[0m \u001b[1;33m=\u001b[0m \u001b[0mjson\u001b[0m\u001b[1;33m.\u001b[0m\u001b[0mloads\u001b[0m\u001b[1;33m(\u001b[0m\u001b[0mdata\u001b[0m\u001b[1;33m)\u001b[0m\u001b[1;33m\u001b[0m\u001b[1;33m\u001b[0m\u001b[0m\n",
      "\u001b[1;31mFileNotFoundError\u001b[0m: [Errno 2] No such file or directory: '..\\\\district_level_urls.txt'"
     ]
    }
   ],
   "source": [
    "with open('data\\district_level_urls.txt') as f:\n",
    "    data = f.read()\n",
    "url_district_dict_1 = json.loads(data)"
   ]
  },
  {
   "cell_type": "code",
   "execution_count": null,
   "id": "7fc6f914",
   "metadata": {},
   "outputs": [],
   "source": [
    "list_of_reps = []\n",
    "for name, url in url_district_dict_1:\n",
    "    sleep = 4\n",
    "    page = requests.get(url)\n",
    "    if page.status_code == 200:\n",
    "        readable = soupy(page.content, 'html.parser')"
   ]
  },
  {
   "cell_type": "code",
   "execution_count": null,
   "id": "4ea899a6",
   "metadata": {},
   "outputs": [],
   "source": [
    "url = \"https://en.wikipedia.org/wiki/List_of_United_States_representatives_from_Arizona\"\n",
    "\n",
    "page = requests.get(url)\n",
    "readable = soupy(page.content, 'html')"
   ]
  },
  {
   "cell_type": "code",
   "execution_count": null,
   "id": "e1e8e3cb",
   "metadata": {},
   "outputs": [],
   "source": [
    "import ssl\n",
    "\n",
    "ssl._create_default_https_context = ssl._create_unverified_context"
   ]
  },
  {
   "cell_type": "code",
   "execution_count": null,
   "id": "7c7872cb",
   "metadata": {},
   "outputs": [],
   "source": [
    "table = pd.read_html(url)[0].iloc[:,[0,1,2,3]]"
   ]
  },
  {
   "cell_type": "code",
   "execution_count": null,
   "id": "9172c79b",
   "metadata": {},
   "outputs": [],
   "source": [
    "table"
   ]
  }
 ],
 "metadata": {
  "kernelspec": {
   "display_name": "Python 3 (ipykernel)",
   "language": "python",
   "name": "python3"
  },
  "language_info": {
   "codemirror_mode": {
    "name": "ipython",
    "version": 3
   },
   "file_extension": ".py",
   "mimetype": "text/x-python",
   "name": "python",
   "nbconvert_exporter": "python",
   "pygments_lexer": "ipython3",
   "version": "3.9.7"
  }
 },
 "nbformat": 4,
 "nbformat_minor": 5
}
