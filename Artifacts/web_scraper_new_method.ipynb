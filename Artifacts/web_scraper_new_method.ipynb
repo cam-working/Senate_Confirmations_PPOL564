{
 "cells": [
  {
   "cell_type": "markdown",
   "id": "e130a1c2",
   "metadata": {},
   "source": [
    "In this file, we will scrape wikipedia to get information on the historical congressional representatives of each US state. The final data frame will have all representatives from each state since 1960, their partisan affiliation, the year they entered congress, the year they left congress, and the district they will represent."
   ]
  },
  {
   "cell_type": "code",
   "execution_count": 48,
   "id": "d55e2720",
   "metadata": {},
   "outputs": [],
   "source": [
    "# first, we import the relevent packages.\n",
    "\n",
    "# for data manipulation\n",
    "import pandas as pd\n",
    "import datetime as dt\n",
    "\n",
    "# to scrape the web\n",
    "from bs4 import BeautifulSoup as soupy\n",
    "import requests\n",
    "import time\n",
    "import random\n",
    "\n",
    "# dealing with consistent ssl error\n",
    "import ssl\n",
    "\n",
    "# for maths\n",
    "import numpy as np\n",
    "import matplotlib.pyplot as plt\n",
    "import seaborn as sns\n",
    "\n",
    "# for writing dictionaries and others as files\n",
    "import json"
   ]
  },
  {
   "cell_type": "markdown",
   "id": "2e376732",
   "metadata": {
    "slideshow": {
     "slide_type": "slide"
    }
   },
   "source": [
    "#### Step 1"
   ]
  },
  {
   "cell_type": "markdown",
   "id": "53cc6b73",
   "metadata": {
    "slideshow": {
     "slide_type": "subslide"
    }
   },
   "source": [
    "Acquire and modify a list of States"
   ]
  },
  {
   "cell_type": "code",
   "execution_count": 2,
   "id": "0e2e751e",
   "metadata": {
    "slideshow": {
     "slide_type": "subslide"
    }
   },
   "outputs": [],
   "source": [
    "# set the url for the site with the states\n",
    "states_url = 'https://state.1keydata.com'"
   ]
  },
  {
   "cell_type": "code",
   "execution_count": 3,
   "id": "e315539a",
   "metadata": {
    "slideshow": {
     "slide_type": "slide"
    }
   },
   "outputs": [
    {
     "name": "stderr",
     "output_type": "stream",
     "text": [
      "C:\\Python39\\lib\\site-packages\\urllib3\\connectionpool.py:1013: InsecureRequestWarning: Unverified HTTPS request is being made to host 'state.1keydata.com'. Adding certificate verification is strongly advised. See: https://urllib3.readthedocs.io/en/1.26.x/advanced-usage.html#ssl-warnings\n",
      "  warnings.warn(\n"
     ]
    }
   ],
   "source": [
    "# make a connection to the page\n",
    "states_page = requests.get(states_url, verify=False)"
   ]
  },
  {
   "cell_type": "code",
   "execution_count": 4,
   "id": "95cc825a",
   "metadata": {
    "scrolled": true
   },
   "outputs": [
    {
     "data": {
      "text/plain": [
       "200"
      ]
     },
     "execution_count": 4,
     "metadata": {},
     "output_type": "execute_result"
    }
   ],
   "source": [
    "# verify the connection\n",
    "states_page.status_code"
   ]
  },
  {
   "cell_type": "code",
   "execution_count": 5,
   "id": "57dc953e",
   "metadata": {},
   "outputs": [],
   "source": [
    "# get the actual html content\n",
    "states_readable = soupy(states_page.content, 'html')"
   ]
  },
  {
   "cell_type": "code",
   "execution_count": 6,
   "id": "e0b830f4",
   "metadata": {},
   "outputs": [],
   "source": [
    "# now we need to initialize a list to store the states\n",
    "# we initialize a list with 50 none values\n",
    "# this makes it much faster to insert the value into the list\n",
    "list_of_states = [None] * 50"
   ]
  },
  {
   "cell_type": "code",
   "execution_count": 7,
   "id": "369c6260",
   "metadata": {},
   "outputs": [],
   "source": [
    "# now we find all the href tags \n",
    "subset_states_readable = states_readable.find('div', {'id' : 'colwrap'})\n",
    "href_all = subset_states_readable.find_all('a', href=True)"
   ]
  },
  {
   "cell_type": "code",
   "execution_count": 8,
   "id": "11b108d6",
   "metadata": {},
   "outputs": [],
   "source": [
    "# then we get the text for each of the a tag values\n",
    "for index, state in enumerate(href_all):\n",
    "    value = state.text\n",
    "    value = value.replace(' ', '_')\n",
    "    list_of_states[index] = value"
   ]
  },
  {
   "cell_type": "markdown",
   "id": "12e4dd20",
   "metadata": {},
   "source": [
    "#### Step 2"
   ]
  },
  {
   "cell_type": "markdown",
   "id": "9eded13a",
   "metadata": {},
   "source": [
    "Use the generated list to create a list of urls."
   ]
  },
  {
   "cell_type": "code",
   "execution_count": 9,
   "id": "2fdc343a",
   "metadata": {},
   "outputs": [],
   "source": [
    "# we use a list comprehension to create the urls\n",
    "list_of_states = [['https://en.wikipedia.org/wiki/List_of_United_States_representatives_from_' + a, a] for a in list_of_states]"
   ]
  },
  {
   "cell_type": "markdown",
   "id": "57b0fd84",
   "metadata": {},
   "source": [
    "#### Step 3"
   ]
  },
  {
   "cell_type": "markdown",
   "id": "da140895",
   "metadata": {},
   "source": [
    "Scrape the table from each wikipedia page and create a pandas data frame."
   ]
  },
  {
   "cell_type": "code",
   "execution_count": 10,
   "id": "767d564d",
   "metadata": {},
   "outputs": [],
   "source": [
    "# temporary ssl fix\n",
    "ssl._create_default_https_context = ssl._create_unverified_context"
   ]
  },
  {
   "cell_type": "code",
   "execution_count": 11,
   "id": "6004d77f",
   "metadata": {},
   "outputs": [],
   "source": [
    "# initialize a list for our pandas dataframes\n",
    "# this is more efficient than appending multiple data frames\n",
    "list_of_data_frames = [None] * 50\n",
    "# get each table as a pandas data frame\n",
    "# store it in the list\n",
    "for index, (url, state) in enumerate(list_of_states):\n",
    "    sleep = 4\n",
    "    try:\n",
    "        table = pd.read_html(url)[0].iloc[:,[0,1,2,3]]\n",
    "        table.rename({table.columns[0]: 'Representative'}, axis = 'columns', inplace = True)\n",
    "        for i in range(1,4):\n",
    "            if 'Democratic' in table.iloc[:,i].values:\n",
    "                table.rename({table.columns[i]: 'Party'}, axis = 'columns', inplace = True)\n",
    "            elif ('1st' or 'At-large') in table.iloc[:,i].values:\n",
    "                table.rename({table.columns[i]: 'District'}, axis = 'columns', inplace = True)\n",
    "            else:\n",
    "                table.rename({table.columns[i]: 'Years'}, axis = 'columns', inplace = True)\n",
    "        table['State'] = state\n",
    "        table[['Start', 'End']] = table['Years'].str.split('–' or '-', expand = True)\n",
    "        table = table.drop(columns = 'Years')\n",
    "        table['Start'] = table['Start'].str.strip()\n",
    "        table['End'] = table['End'].str.strip()\n",
    "        table['Start'] = pd.to_datetime(table['Start'], errors='coerce')\n",
    "        table['End'] = table['End'].replace(['Present', 'present'], 'November 28, 2021')\n",
    "        table['End'] = pd.to_datetime(table['End'], errors='coerce')\n",
    "        list_of_data_frames[index] = table\n",
    "        time.sleep(random.uniform(0,sleep))\n",
    "    except:\n",
    "        time.sleep(random.uniform(0,sleep))\n",
    "        pass"
   ]
  },
  {
   "cell_type": "code",
   "execution_count": 12,
   "id": "3126b9c8",
   "metadata": {},
   "outputs": [],
   "source": [
    "res = [i for i in range(len(list_of_data_frames)) if list_of_data_frames[i] is None]"
   ]
  },
  {
   "cell_type": "code",
   "execution_count": 13,
   "id": "9e105125",
   "metadata": {
    "scrolled": false
   },
   "outputs": [
    {
     "data": {
      "text/plain": [
       "[1, 7, 9, 10, 15, 18, 27, 49]"
      ]
     },
     "execution_count": 13,
     "metadata": {},
     "output_type": "execute_result"
    }
   ],
   "source": [
    "# this is a list of indexes where we did not store a dataframe\n",
    "# we will have to go back and scrape these values individually\n",
    "# should not matter much for results\n",
    "res"
   ]
  },
  {
   "cell_type": "code",
   "execution_count": 14,
   "id": "9acdb3e1",
   "metadata": {},
   "outputs": [],
   "source": [
    "# combine the data frame\n",
    "skel = pd.concat(list_of_data_frames, axis = 0, ignore_index = True)"
   ]
  },
  {
   "cell_type": "code",
   "execution_count": 16,
   "id": "746471a8",
   "metadata": {},
   "outputs": [],
   "source": [
    "# get rid of missingness\n",
    "skel = skel[skel['Start'].isnull() == False]\n",
    "skel = skel[skel['End'].isnull() == False]"
   ]
  },
  {
   "cell_type": "code",
   "execution_count": 17,
   "id": "9d5fced7",
   "metadata": {},
   "outputs": [],
   "source": [
    "# get year from start\n",
    "skel['Start_Year'] = skel['Start'].dt.year"
   ]
  },
  {
   "cell_type": "code",
   "execution_count": 18,
   "id": "c9dd54e0",
   "metadata": {},
   "outputs": [],
   "source": [
    "# get year from end\n",
    "skel['End_Year'] = skel['End'].dt.year"
   ]
  },
  {
   "cell_type": "code",
   "execution_count": 19,
   "id": "781b1cc6",
   "metadata": {
    "scrolled": true
   },
   "outputs": [],
   "source": [
    "# calculate time served\n",
    "skel['Duration'] = skel['End'] - skel['Start']"
   ]
  },
  {
   "cell_type": "code",
   "execution_count": 20,
   "id": "05a0566a",
   "metadata": {
    "scrolled": true
   },
   "outputs": [],
   "source": [
    "# calculate time served in years\n",
    "skel['Duration_simple'] = pd.Series(skel['Duration']).dt.days/365"
   ]
  },
  {
   "cell_type": "code",
   "execution_count": 21,
   "id": "d7b8beb6",
   "metadata": {},
   "outputs": [
    {
     "data": {
      "text/plain": [
       "numpy.int64"
      ]
     },
     "execution_count": 21,
     "metadata": {},
     "output_type": "execute_result"
    }
   ],
   "source": [
    "# get the type\n",
    "type(skel['End_Year'][1])"
   ]
  },
  {
   "cell_type": "code",
   "execution_count": 22,
   "id": "cae468c3",
   "metadata": {
    "scrolled": true
   },
   "outputs": [
    {
     "data": {
      "text/html": [
       "<div>\n",
       "<style scoped>\n",
       "    .dataframe tbody tr th:only-of-type {\n",
       "        vertical-align: middle;\n",
       "    }\n",
       "\n",
       "    .dataframe tbody tr th {\n",
       "        vertical-align: top;\n",
       "    }\n",
       "\n",
       "    .dataframe thead th {\n",
       "        text-align: right;\n",
       "    }\n",
       "</style>\n",
       "<table border=\"1\" class=\"dataframe\">\n",
       "  <thead>\n",
       "    <tr style=\"text-align: right;\">\n",
       "      <th></th>\n",
       "      <th>Representative</th>\n",
       "      <th>Party</th>\n",
       "      <th>District</th>\n",
       "      <th>State</th>\n",
       "      <th>Start</th>\n",
       "      <th>End</th>\n",
       "      <th>Start_Year</th>\n",
       "      <th>End_Year</th>\n",
       "      <th>Duration</th>\n",
       "      <th>Duration_simple</th>\n",
       "    </tr>\n",
       "  </thead>\n",
       "  <tbody>\n",
       "    <tr>\n",
       "      <th>0</th>\n",
       "      <td>James Abercrombie</td>\n",
       "      <td>Whig</td>\n",
       "      <td>2nd</td>\n",
       "      <td>Alabama</td>\n",
       "      <td>1851-03-04</td>\n",
       "      <td>1855-03-04</td>\n",
       "      <td>1851</td>\n",
       "      <td>1855</td>\n",
       "      <td>1461 days</td>\n",
       "      <td>4.002740</td>\n",
       "    </tr>\n",
       "    <tr>\n",
       "      <th>1</th>\n",
       "      <td>John Abercrombie</td>\n",
       "      <td>Democratic</td>\n",
       "      <td>At-large</td>\n",
       "      <td>Alabama</td>\n",
       "      <td>1913-03-04</td>\n",
       "      <td>1917-03-04</td>\n",
       "      <td>1913</td>\n",
       "      <td>1917</td>\n",
       "      <td>1461 days</td>\n",
       "      <td>4.002740</td>\n",
       "    </tr>\n",
       "    <tr>\n",
       "      <th>2</th>\n",
       "      <td>Robert Aderholt</td>\n",
       "      <td>Republican</td>\n",
       "      <td>4th</td>\n",
       "      <td>Alabama</td>\n",
       "      <td>1997-01-03</td>\n",
       "      <td>2021-11-28</td>\n",
       "      <td>1997</td>\n",
       "      <td>2021</td>\n",
       "      <td>9095 days</td>\n",
       "      <td>24.917808</td>\n",
       "    </tr>\n",
       "    <tr>\n",
       "      <th>3</th>\n",
       "      <td>Truman H. Aldrich</td>\n",
       "      <td>Republican</td>\n",
       "      <td>9th</td>\n",
       "      <td>Alabama</td>\n",
       "      <td>1896-06-09</td>\n",
       "      <td>1897-03-04</td>\n",
       "      <td>1896</td>\n",
       "      <td>1897</td>\n",
       "      <td>268 days</td>\n",
       "      <td>0.734247</td>\n",
       "    </tr>\n",
       "    <tr>\n",
       "      <th>4</th>\n",
       "      <td>William F. Aldrich</td>\n",
       "      <td>Republican</td>\n",
       "      <td>4th</td>\n",
       "      <td>Alabama</td>\n",
       "      <td>1896-03-13</td>\n",
       "      <td>1897-03-04</td>\n",
       "      <td>1896</td>\n",
       "      <td>1897</td>\n",
       "      <td>356 days</td>\n",
       "      <td>0.975342</td>\n",
       "    </tr>\n",
       "  </tbody>\n",
       "</table>\n",
       "</div>"
      ],
      "text/plain": [
       "       Representative       Party  District    State      Start        End  \\\n",
       "0   James Abercrombie        Whig       2nd  Alabama 1851-03-04 1855-03-04   \n",
       "1    John Abercrombie  Democratic  At-large  Alabama 1913-03-04 1917-03-04   \n",
       "2     Robert Aderholt  Republican       4th  Alabama 1997-01-03 2021-11-28   \n",
       "3   Truman H. Aldrich  Republican       9th  Alabama 1896-06-09 1897-03-04   \n",
       "4  William F. Aldrich  Republican       4th  Alabama 1896-03-13 1897-03-04   \n",
       "\n",
       "   Start_Year  End_Year  Duration  Duration_simple  \n",
       "0        1851      1855 1461 days         4.002740  \n",
       "1        1913      1917 1461 days         4.002740  \n",
       "2        1997      2021 9095 days        24.917808  \n",
       "3        1896      1897  268 days         0.734247  \n",
       "4        1896      1897  356 days         0.975342  "
      ]
     },
     "execution_count": 22,
     "metadata": {},
     "output_type": "execute_result"
    }
   ],
   "source": [
    "# show head\n",
    "skel.head()"
   ]
  },
  {
   "cell_type": "code",
   "execution_count": 23,
   "id": "4090b71b",
   "metadata": {},
   "outputs": [],
   "source": [
    "# create a year in a column\n",
    "for year in range(1852,2022,2):\n",
    "    skel[str(year)] = year"
   ]
  },
  {
   "cell_type": "code",
   "execution_count": 24,
   "id": "12f08303",
   "metadata": {
    "scrolled": false
   },
   "outputs": [
    {
     "data": {
      "text/html": [
       "<div>\n",
       "<style scoped>\n",
       "    .dataframe tbody tr th:only-of-type {\n",
       "        vertical-align: middle;\n",
       "    }\n",
       "\n",
       "    .dataframe tbody tr th {\n",
       "        vertical-align: top;\n",
       "    }\n",
       "\n",
       "    .dataframe thead th {\n",
       "        text-align: right;\n",
       "    }\n",
       "</style>\n",
       "<table border=\"1\" class=\"dataframe\">\n",
       "  <thead>\n",
       "    <tr style=\"text-align: right;\">\n",
       "      <th></th>\n",
       "      <th>Representative</th>\n",
       "      <th>Party</th>\n",
       "      <th>District</th>\n",
       "      <th>State</th>\n",
       "      <th>Start</th>\n",
       "      <th>End</th>\n",
       "      <th>Start_Year</th>\n",
       "      <th>End_Year</th>\n",
       "      <th>Duration</th>\n",
       "      <th>Duration_simple</th>\n",
       "      <th>...</th>\n",
       "      <th>2002</th>\n",
       "      <th>2004</th>\n",
       "      <th>2006</th>\n",
       "      <th>2008</th>\n",
       "      <th>2010</th>\n",
       "      <th>2012</th>\n",
       "      <th>2014</th>\n",
       "      <th>2016</th>\n",
       "      <th>2018</th>\n",
       "      <th>2020</th>\n",
       "    </tr>\n",
       "  </thead>\n",
       "  <tbody>\n",
       "    <tr>\n",
       "      <th>0</th>\n",
       "      <td>James Abercrombie</td>\n",
       "      <td>Whig</td>\n",
       "      <td>2nd</td>\n",
       "      <td>Alabama</td>\n",
       "      <td>1851-03-04</td>\n",
       "      <td>1855-03-04</td>\n",
       "      <td>1851</td>\n",
       "      <td>1855</td>\n",
       "      <td>1461 days</td>\n",
       "      <td>4.002740</td>\n",
       "      <td>...</td>\n",
       "      <td>2002</td>\n",
       "      <td>2004</td>\n",
       "      <td>2006</td>\n",
       "      <td>2008</td>\n",
       "      <td>2010</td>\n",
       "      <td>2012</td>\n",
       "      <td>2014</td>\n",
       "      <td>2016</td>\n",
       "      <td>2018</td>\n",
       "      <td>2020</td>\n",
       "    </tr>\n",
       "    <tr>\n",
       "      <th>1</th>\n",
       "      <td>John Abercrombie</td>\n",
       "      <td>Democratic</td>\n",
       "      <td>At-large</td>\n",
       "      <td>Alabama</td>\n",
       "      <td>1913-03-04</td>\n",
       "      <td>1917-03-04</td>\n",
       "      <td>1913</td>\n",
       "      <td>1917</td>\n",
       "      <td>1461 days</td>\n",
       "      <td>4.002740</td>\n",
       "      <td>...</td>\n",
       "      <td>2002</td>\n",
       "      <td>2004</td>\n",
       "      <td>2006</td>\n",
       "      <td>2008</td>\n",
       "      <td>2010</td>\n",
       "      <td>2012</td>\n",
       "      <td>2014</td>\n",
       "      <td>2016</td>\n",
       "      <td>2018</td>\n",
       "      <td>2020</td>\n",
       "    </tr>\n",
       "    <tr>\n",
       "      <th>2</th>\n",
       "      <td>Robert Aderholt</td>\n",
       "      <td>Republican</td>\n",
       "      <td>4th</td>\n",
       "      <td>Alabama</td>\n",
       "      <td>1997-01-03</td>\n",
       "      <td>2021-11-28</td>\n",
       "      <td>1997</td>\n",
       "      <td>2021</td>\n",
       "      <td>9095 days</td>\n",
       "      <td>24.917808</td>\n",
       "      <td>...</td>\n",
       "      <td>2002</td>\n",
       "      <td>2004</td>\n",
       "      <td>2006</td>\n",
       "      <td>2008</td>\n",
       "      <td>2010</td>\n",
       "      <td>2012</td>\n",
       "      <td>2014</td>\n",
       "      <td>2016</td>\n",
       "      <td>2018</td>\n",
       "      <td>2020</td>\n",
       "    </tr>\n",
       "    <tr>\n",
       "      <th>3</th>\n",
       "      <td>Truman H. Aldrich</td>\n",
       "      <td>Republican</td>\n",
       "      <td>9th</td>\n",
       "      <td>Alabama</td>\n",
       "      <td>1896-06-09</td>\n",
       "      <td>1897-03-04</td>\n",
       "      <td>1896</td>\n",
       "      <td>1897</td>\n",
       "      <td>268 days</td>\n",
       "      <td>0.734247</td>\n",
       "      <td>...</td>\n",
       "      <td>2002</td>\n",
       "      <td>2004</td>\n",
       "      <td>2006</td>\n",
       "      <td>2008</td>\n",
       "      <td>2010</td>\n",
       "      <td>2012</td>\n",
       "      <td>2014</td>\n",
       "      <td>2016</td>\n",
       "      <td>2018</td>\n",
       "      <td>2020</td>\n",
       "    </tr>\n",
       "    <tr>\n",
       "      <th>4</th>\n",
       "      <td>William F. Aldrich</td>\n",
       "      <td>Republican</td>\n",
       "      <td>4th</td>\n",
       "      <td>Alabama</td>\n",
       "      <td>1896-03-13</td>\n",
       "      <td>1897-03-04</td>\n",
       "      <td>1896</td>\n",
       "      <td>1897</td>\n",
       "      <td>356 days</td>\n",
       "      <td>0.975342</td>\n",
       "      <td>...</td>\n",
       "      <td>2002</td>\n",
       "      <td>2004</td>\n",
       "      <td>2006</td>\n",
       "      <td>2008</td>\n",
       "      <td>2010</td>\n",
       "      <td>2012</td>\n",
       "      <td>2014</td>\n",
       "      <td>2016</td>\n",
       "      <td>2018</td>\n",
       "      <td>2020</td>\n",
       "    </tr>\n",
       "  </tbody>\n",
       "</table>\n",
       "<p>5 rows × 95 columns</p>\n",
       "</div>"
      ],
      "text/plain": [
       "       Representative       Party  District    State      Start        End  \\\n",
       "0   James Abercrombie        Whig       2nd  Alabama 1851-03-04 1855-03-04   \n",
       "1    John Abercrombie  Democratic  At-large  Alabama 1913-03-04 1917-03-04   \n",
       "2     Robert Aderholt  Republican       4th  Alabama 1997-01-03 2021-11-28   \n",
       "3   Truman H. Aldrich  Republican       9th  Alabama 1896-06-09 1897-03-04   \n",
       "4  William F. Aldrich  Republican       4th  Alabama 1896-03-13 1897-03-04   \n",
       "\n",
       "   Start_Year  End_Year  Duration  Duration_simple  ...  2002  2004  2006  \\\n",
       "0        1851      1855 1461 days         4.002740  ...  2002  2004  2006   \n",
       "1        1913      1917 1461 days         4.002740  ...  2002  2004  2006   \n",
       "2        1997      2021 9095 days        24.917808  ...  2002  2004  2006   \n",
       "3        1896      1897  268 days         0.734247  ...  2002  2004  2006   \n",
       "4        1896      1897  356 days         0.975342  ...  2002  2004  2006   \n",
       "\n",
       "   2008  2010  2012  2014  2016  2018  2020  \n",
       "0  2008  2010  2012  2014  2016  2018  2020  \n",
       "1  2008  2010  2012  2014  2016  2018  2020  \n",
       "2  2008  2010  2012  2014  2016  2018  2020  \n",
       "3  2008  2010  2012  2014  2016  2018  2020  \n",
       "4  2008  2010  2012  2014  2016  2018  2020  \n",
       "\n",
       "[5 rows x 95 columns]"
      ]
     },
     "execution_count": 24,
     "metadata": {},
     "output_type": "execute_result"
    }
   ],
   "source": [
    "# show head\n",
    "skel.head()"
   ]
  },
  {
   "cell_type": "code",
   "execution_count": 27,
   "id": "e679e094",
   "metadata": {},
   "outputs": [],
   "source": [
    "# select data that is earlier than 1900\n",
    "skel = skel[skel['End_Year'] < 1900]"
   ]
  },
  {
   "cell_type": "code",
   "execution_count": 28,
   "id": "e3b67265",
   "metadata": {
    "scrolled": true
   },
   "outputs": [],
   "source": [
    "# subset the data frame get the mean values and count for duration in years\n",
    "money = skel.groupby(skel['Party'])['Duration_simple'].agg(['mean', 'count'])"
   ]
  },
  {
   "cell_type": "code",
   "execution_count": 40,
   "id": "0657599c",
   "metadata": {},
   "outputs": [],
   "source": [
    "# only look at parties with more than 50 representatives\n",
    "money = money[money['count'] > 50]"
   ]
  },
  {
   "cell_type": "code",
   "execution_count": 44,
   "id": "5f0405ae",
   "metadata": {},
   "outputs": [],
   "source": [
    "# reset the index\n",
    "money = money.reset_index()"
   ]
  },
  {
   "cell_type": "code",
   "execution_count": 64,
   "id": "c2e599ff",
   "metadata": {},
   "outputs": [
    {
     "data": {
      "text/plain": [
       "Text(0.5, 1.0, 'Average Years Served in the House by Representatives of Major Political Parties (Pre-1900)')"
      ]
     },
     "execution_count": 64,
     "metadata": {},
     "output_type": "execute_result"
    },
    {
     "data": {
      "image/png": "[encoded data removed]",
      "text/plain": [
       "<Figure size 1296x648 with 1 Axes>"
      ]
     },
     "metadata": {
      "needs_background": "light"
     },
     "output_type": "display_data"
    }
   ],
   "source": [
    "fig, ax1 = plt.subplots(figsize=(18,9))\n",
    "graph = sns.barplot(ax = ax1, x='Party',y='mean',data=money)\n",
    "graph.set(xlabel='Political Party', ylabel='Average Years Served by Representatives')\n",
    "plt.title('Average Years Served in the House by Representatives of Major Political Parties (Pre-1900)')"
   ]
  },
  {
   "cell_type": "code",
   "execution_count": 45,
   "id": "7bbff78b",
   "metadata": {},
   "outputs": [
    {
     "data": {
      "text/html": [
       "<div>\n",
       "<style scoped>\n",
       "    .dataframe tbody tr th:only-of-type {\n",
       "        vertical-align: middle;\n",
       "    }\n",
       "\n",
       "    .dataframe tbody tr th {\n",
       "        vertical-align: top;\n",
       "    }\n",
       "\n",
       "    .dataframe thead th {\n",
       "        text-align: right;\n",
       "    }\n",
       "</style>\n",
       "<table border=\"1\" class=\"dataframe\">\n",
       "  <thead>\n",
       "    <tr style=\"text-align: right;\">\n",
       "      <th></th>\n",
       "      <th>Party</th>\n",
       "      <th>mean</th>\n",
       "      <th>count</th>\n",
       "    </tr>\n",
       "  </thead>\n",
       "  <tbody>\n",
       "    <tr>\n",
       "      <th>0</th>\n",
       "      <td>Anti-Administration</td>\n",
       "      <td>2.290100</td>\n",
       "      <td>88</td>\n",
       "    </tr>\n",
       "    <tr>\n",
       "      <th>1</th>\n",
       "      <td>Anti-Jacksonian</td>\n",
       "      <td>2.924855</td>\n",
       "      <td>306</td>\n",
       "    </tr>\n",
       "    <tr>\n",
       "      <th>2</th>\n",
       "      <td>Democratic</td>\n",
       "      <td>3.135523</td>\n",
       "      <td>2247</td>\n",
       "    </tr>\n",
       "    <tr>\n",
       "      <th>3</th>\n",
       "      <td>Democratic-Republican</td>\n",
       "      <td>3.066448</td>\n",
       "      <td>971</td>\n",
       "    </tr>\n",
       "    <tr>\n",
       "      <th>4</th>\n",
       "      <td>Federalist</td>\n",
       "      <td>3.198758</td>\n",
       "      <td>353</td>\n",
       "    </tr>\n",
       "    <tr>\n",
       "      <th>5</th>\n",
       "      <td>Jacksonian</td>\n",
       "      <td>3.085360</td>\n",
       "      <td>435</td>\n",
       "    </tr>\n",
       "    <tr>\n",
       "      <th>6</th>\n",
       "      <td>Know Nothing</td>\n",
       "      <td>2.430954</td>\n",
       "      <td>57</td>\n",
       "    </tr>\n",
       "    <tr>\n",
       "      <th>7</th>\n",
       "      <td>Opposition</td>\n",
       "      <td>1.987851</td>\n",
       "      <td>99</td>\n",
       "    </tr>\n",
       "    <tr>\n",
       "      <th>8</th>\n",
       "      <td>Pro-Administration</td>\n",
       "      <td>2.395848</td>\n",
       "      <td>97</td>\n",
       "    </tr>\n",
       "    <tr>\n",
       "      <th>9</th>\n",
       "      <td>Republican</td>\n",
       "      <td>3.231134</td>\n",
       "      <td>1550</td>\n",
       "    </tr>\n",
       "    <tr>\n",
       "      <th>10</th>\n",
       "      <td>Whig</td>\n",
       "      <td>2.683117</td>\n",
       "      <td>619</td>\n",
       "    </tr>\n",
       "  </tbody>\n",
       "</table>\n",
       "</div>"
      ],
      "text/plain": [
       "                    Party      mean  count\n",
       "0     Anti-Administration  2.290100     88\n",
       "1         Anti-Jacksonian  2.924855    306\n",
       "2              Democratic  3.135523   2247\n",
       "3   Democratic-Republican  3.066448    971\n",
       "4              Federalist  3.198758    353\n",
       "5              Jacksonian  3.085360    435\n",
       "6            Know Nothing  2.430954     57\n",
       "7              Opposition  1.987851     99\n",
       "8      Pro-Administration  2.395848     97\n",
       "9              Republican  3.231134   1550\n",
       "10                   Whig  2.683117    619"
      ]
     },
     "execution_count": 45,
     "metadata": {},
     "output_type": "execute_result"
    }
   ],
   "source": [
    "money"
   ]
  }
 ],
 "metadata": {
  "kernelspec": {
   "display_name": "Python 3 (ipykernel)",
   "language": "python",
   "name": "python3"
  },
  "language_info": {
   "codemirror_mode": {
    "name": "ipython",
    "version": 3
   },
   "file_extension": ".py",
   "mimetype": "text/x-python",
   "name": "python",
   "nbconvert_exporter": "python",
   "pygments_lexer": "ipython3",
   "version": "3.9.7"
  }
 },
 "nbformat": 4,
 "nbformat_minor": 5
}
