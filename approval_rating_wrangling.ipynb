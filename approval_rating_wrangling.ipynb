{
 "cells": [
  {
   "cell_type": "code",
   "execution_count": 1,
   "id": "06ff3ece",
   "metadata": {},
   "outputs": [],
   "source": [
    "# first, we import the relevent packages.\n",
    "\n",
    "# for data manipulation\n",
    "import pandas as pd\n",
    "import datetime as dt\n",
    "\n",
    "# to scrape the web\n",
    "from bs4 import BeautifulSoup as soupy\n",
    "import requests\n",
    "import time\n",
    "import random\n",
    "\n",
    "# dealing with consistent ssl error\n",
    "import ssl\n",
    "\n",
    "# for maths\n",
    "import numpy as np\n",
    "import matplotlib.pyplot as plt\n",
    "import seaborn as sns\n",
    "\n",
    "# for writing dictionaries and others as files\n",
    "import json"
   ]
  },
  {
   "cell_type": "code",
   "execution_count": 2,
   "id": "f8136c70",
   "metadata": {},
   "outputs": [],
   "source": [
    "xls = pd.ExcelFile('data\\American_Presidency_Project_Approval_Ratings_for_POTUS.xls')"
   ]
  },
  {
   "cell_type": "code",
   "execution_count": 3,
   "id": "f8e6a491",
   "metadata": {},
   "outputs": [],
   "source": [
    "# read each sheet into a data frame\n",
    "df_Trump = pd.read_excel(xls, 'Donald Trump')\n",
    "df_Obama = pd.read_excel(xls, 'Barack Obama')\n",
    "df_Bush_2 = pd.read_excel(xls, 'George W. Bush')\n",
    "df_Clinton = pd.read_excel(xls, 'William J. Clinton')\n",
    "df_Bush_1 = pd.read_excel(xls, 'George Bush')\n",
    "df_Reagan = pd.read_excel(xls, 'Ronald Reagan')\n",
    "df_Carter = pd.read_excel(xls, 'Jimmy Carter')\n",
    "df_Ford = pd.read_excel(xls, 'Gerald R. Ford')\n",
    "df_Nixon = pd.read_excel(xls, 'Richard Nixon')\n",
    "df_Johnson = pd.read_excel(xls, 'Lyndon B. Johnson')\n",
    "df_Carter = pd.read_excel(xls, 'John F. Kennedy')\n",
    "df_Eisenhower = pd.read_excel(xls, 'Dwight D. Eisenhower')"
   ]
  },
  {
   "cell_type": "code",
   "execution_count": 4,
   "id": "972f2f05",
   "metadata": {},
   "outputs": [],
   "source": [
    "# create the list of data dfs\n",
    "list_of_dfs = [df_Trump, \n",
    "               df_Obama, \n",
    "               df_Bush_2, \n",
    "               df_Clinton,\n",
    "               df_Bush_1,\n",
    "               df_Reagan,\n",
    "               df_Carter,\n",
    "               df_Ford,\n",
    "               df_Nixon,\n",
    "               df_Johnson,\n",
    "               df_Carter,\n",
    "               df_Eisenhower]"
   ]
  },
  {
   "cell_type": "code",
   "execution_count": 5,
   "id": "2ea7564a",
   "metadata": {},
   "outputs": [],
   "source": [
    "# create a start month and year variable\n",
    "for df in list_of_dfs:\n",
    "    df['Month'] = df['Start Date'].dt.month\n",
    "    df['Year'] = df['Start Date'].dt.year"
   ]
  },
  {
   "cell_type": "code",
   "execution_count": 6,
   "id": "6864e90a",
   "metadata": {
    "scrolled": true
   },
   "outputs": [],
   "source": [
    "# make into a single data frame\n",
    "approval = pd.concat(list_of_dfs, axis = 0, ignore_index = True)"
   ]
  },
  {
   "cell_type": "code",
   "execution_count": 1,
   "id": "41e84ea0",
   "metadata": {},
   "outputs": [
    {
     "ename": "NameError",
     "evalue": "name 'approval' is not defined",
     "output_type": "error",
     "traceback": [
      "\u001b[1;31m---------------------------------------------------------------------------\u001b[0m",
      "\u001b[1;31mNameError\u001b[0m                                 Traceback (most recent call last)",
      "\u001b[1;32m~\\AppData\\Local\\Temp/ipykernel_12468/690574384.py\u001b[0m in \u001b[0;36m<module>\u001b[1;34m\u001b[0m\n\u001b[1;32m----> 1\u001b[1;33m \u001b[0mapproval\u001b[0m \u001b[1;33m=\u001b[0m \u001b[0mapproval\u001b[0m\u001b[1;33m.\u001b[0m\u001b[0mdrop\u001b[0m\u001b[1;33m(\u001b[0m\u001b[0mcolumns\u001b[0m \u001b[1;33m=\u001b[0m \u001b[1;33m[\u001b[0m\u001b[1;34m'Start Date'\u001b[0m\u001b[1;33m,\u001b[0m \u001b[1;34m'End Date'\u001b[0m\u001b[1;33m,\u001b[0m \u001b[1;34m'Unsure/NoData'\u001b[0m\u001b[1;33m]\u001b[0m\u001b[1;33m)\u001b[0m\u001b[1;33m\u001b[0m\u001b[1;33m\u001b[0m\u001b[0m\n\u001b[0m",
      "\u001b[1;31mNameError\u001b[0m: name 'approval' is not defined"
     ]
    }
   ],
   "source": [
    "# drop columns\n",
    "approval = approval.drop(columns = ['Start Date', 'End Date', 'Unsure/NoData'])"
   ]
  },
  {
   "cell_type": "code",
   "execution_count": 8,
   "id": "08cf803a",
   "metadata": {},
   "outputs": [],
   "source": [
    "# make data frame for november\n",
    "approval_november = approval[approval['Month'] == 11]"
   ]
  },
  {
   "cell_type": "code",
   "execution_count": 9,
   "id": "e8f40065",
   "metadata": {},
   "outputs": [],
   "source": [
    "# make data frame for even novembers, election years for president\n",
    "approval_election_year = approval_november[approval_november['Year']%2 == 0]"
   ]
  },
  {
   "cell_type": "code",
   "execution_count": 10,
   "id": "916c316e",
   "metadata": {},
   "outputs": [],
   "source": [
    "# get the mean\n",
    "approval_election_year = approval_election_year.groupby('Year', as_index = False)[['Approving', 'Disapproving']].mean()"
   ]
  },
  {
   "cell_type": "code",
   "execution_count": 11,
   "id": "200c8b5e",
   "metadata": {},
   "outputs": [],
   "source": [
    "# do the same for\n",
    "approval_january = approval[approval['Month'] == 1]\n",
    "approval_swearing_in = approval_january[approval_january['Year']%2 != 0]\n",
    "approval_swearing_in = approval_swearing_in.groupby('Year', as_index = False)[['Approving', 'Disapproving']].mean()"
   ]
  },
  {
   "cell_type": "code",
   "execution_count": 12,
   "id": "d17cc85e",
   "metadata": {},
   "outputs": [],
   "source": [
    "# rename columns\n",
    "approval_election_year.columns = ['Year', 'Approval_Election', 'Disapproval_Election']\n",
    "approval_swearing_in.columns = ['Year', 'Approval_Current', 'Disapproval_Current']"
   ]
  },
  {
   "cell_type": "code",
   "execution_count": 13,
   "id": "2cbb4da8",
   "metadata": {},
   "outputs": [],
   "source": [
    "# output to files\n",
    "approval_election_year.to_csv('election_approval.csv', encoding='utf-8', index=False)\n",
    "approval_swearing_in.to_csv('current_approval.csv', encoding='utf-8', index=False)"
   ]
  }
 ],
 "metadata": {
  "kernelspec": {
   "display_name": "Python 3 (ipykernel)",
   "language": "python",
   "name": "python3"
  },
  "language_info": {
   "codemirror_mode": {
    "name": "ipython",
    "version": 3
   },
   "file_extension": ".py",
   "mimetype": "text/x-python",
   "name": "python",
   "nbconvert_exporter": "python",
   "pygments_lexer": "ipython3",
   "version": "3.9.7"
  }
 },
 "nbformat": 4,
 "nbformat_minor": 5
}
