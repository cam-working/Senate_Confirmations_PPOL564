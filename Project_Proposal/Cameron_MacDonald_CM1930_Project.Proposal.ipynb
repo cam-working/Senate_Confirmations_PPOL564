{
 "cells": [
  {
   "cell_type": "markdown",
   "id": "b0305e63",
   "metadata": {},
   "source": [
    "# Final Project: Proposal "
   ]
  },
  {
   "cell_type": "markdown",
   "id": "e3519c5d",
   "metadata": {},
   "source": [
    "##### Cameron MacDonald <br> Public Policy 564: Data Science 1 <br> November 3, 2021"
   ]
  },
  {
   "cell_type": "markdown",
   "id": "f34eee51",
   "metadata": {},
   "source": [
    "### Problem Statement"
   ]
  },
  {
   "cell_type": "markdown",
   "id": "28859702",
   "metadata": {},
   "source": [
    "The constitutional design of the United States allows for Presidents to appoint people to key positions (in the cabinet and the courts) with the “advice and consent” of the Senate. The inability to staff key positions and to leave a lasting imprint on the federal courts can be detrimental to the goals of a particular administration. With this project, I hope to build a machine-learning model that can predict whether or not a particular candidate will be confirmed by the Senate, taking into consideration the current political climate and the personal background of the nominee. "
   ]
  },
  {
   "cell_type": "markdown",
   "id": "3e9d6439",
   "metadata": {},
   "source": [
    "### Data Sources"
   ]
  },
  {
   "cell_type": "markdown",
   "id": "d25b6147",
   "metadata": {},
   "source": [
    "#### List of Sources with Descriptions of Data"
   ]
  },
  {
   "cell_type": "markdown",
   "id": "9668c030",
   "metadata": {},
   "source": [
    "My data collection will vary based on whether I investigate recent appointments (from the Trump and Biden presidencies), or whether I take a longer view and investigate since 1996 (or 2004). Another thing that may vary is whether I consider all executive appointments or simply cabinet level positions, or both.  \n",
    "\n",
    " - The [Plum Book Archives]( https://www.govinfo.gov/collection/plum-book?path=/GPO/United%20States%20Government%20Policy%20and%20Supporting%20Positions%20%2528Plum%20Book%2529) contains pdf versions of the plug book detailing the listing of all appointed jobs in the executive branch.\n",
    " - Various Wikipedia Articles: \n",
    "    - Lists of appointments of [Joe Biden](https://en.wikipedia.org/wiki/Political_appointments_by_Joe_Biden) and [Donald Trump]( https://en.wikipedia.org/wiki/Political_appointments_by_Donald_Trump)\n",
    "    - Various lists of secretaries and undersecretaries such as [this one]( https://en.wikipedia.org/wiki/List_of_secretaries_of_state_of_the_United_States)\n",
    "    - Text pages from the [Senate website]( https://www.senate.gov/pagelayout/legislative/one_item_and_teasers/nom_confc.htm) listing whether a person is confirmed or not. There are similar pages from withdrawn or rejected nominations. "
   ]
  },
  {
   "cell_type": "markdown",
   "id": "e175cd25",
   "metadata": {},
   "source": [
    "### Methodology"
   ]
  },
  {
   "cell_type": "markdown",
   "id": "5b41aec7",
   "metadata": {},
   "source": [
    "The bulk of the data will be collected by scraping web and proprietary file sources (such as pdfs). It will also be necessary to merge several data frames made from data collected from different sources. Minor calculations may have to be preformed (such as age from date of birth) and text responses will have to be made into categorical variables. One variable will hopefully be created that indicates whether someone held a previous position in the executive, judicial, or legislative branches based on their names being in the plum book, or a similar judicial source. Various visualization of both descriptive and results data will be attempted. "
   ]
  },
  {
   "cell_type": "markdown",
   "id": "4c4c63f2",
   "metadata": {},
   "source": [
    "### Defining Success"
   ]
  },
  {
   "cell_type": "markdown",
   "id": "d0adbb3e",
   "metadata": {},
   "source": [
    "While building a model that can accurately access whether a particular candidate will be confirmed by the Senate would be an accomplishment, my main ‘success’ criteria for this project concerns the first two components of the assignment. I will be drawing on data from a variety of web and proprietary file sources, scraping this data will not be a straightforward process. Additionally, I hope to work through understanding how to present descriptive data and results in a visually compelling graphics. More than anything I am concerned with good project management. I want to utilize virtual environments and git version control. This also includes creating efficient and intuitive directory structures and naming conventions. "
   ]
  }
 ],
 "metadata": {
  "kernelspec": {
   "display_name": "Python 3 (ipykernel)",
   "language": "python",
   "name": "python3"
  },
  "language_info": {
   "codemirror_mode": {
    "name": "ipython",
    "version": 3
   },
   "file_extension": ".py",
   "mimetype": "text/x-python",
   "name": "python",
   "nbconvert_exporter": "python",
   "pygments_lexer": "ipython3",
   "version": "3.9.7"
  }
 },
 "nbformat": 4,
 "nbformat_minor": 5
}
