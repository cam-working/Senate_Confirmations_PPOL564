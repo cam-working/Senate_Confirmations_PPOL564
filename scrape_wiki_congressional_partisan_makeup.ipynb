{
 "cells": [
  {
   "cell_type": "code",
   "execution_count": 1,
   "id": "3d1bdb3b",
   "metadata": {},
   "outputs": [],
   "source": [
    "# first, we import the relevent packages.\n",
    "\n",
    "# for data manipulation\n",
    "import pandas as pd\n",
    "import datetime as dt\n",
    "\n",
    "# to scrape the web\n",
    "from bs4 import BeautifulSoup as soupy\n",
    "import requests\n",
    "import time\n",
    "import random\n",
    "\n",
    "# dealing with consistent ssl error\n",
    "import ssl\n",
    "\n",
    "# for maths\n",
    "import numpy as np\n",
    "import matplotlib.pyplot as plt\n",
    "import seaborn as sns\n",
    "\n",
    "# for writing dictionaries and others as files\n",
    "import json"
   ]
  },
  {
   "cell_type": "code",
   "execution_count": 2,
   "id": "e0fc6de7",
   "metadata": {},
   "outputs": [],
   "source": [
    "url = 'https://en.wikipedia.org/wiki/Party_divisions_of_United_States_Congresses'"
   ]
  },
  {
   "cell_type": "code",
   "execution_count": 3,
   "id": "7c16798e",
   "metadata": {},
   "outputs": [],
   "source": [
    "# temporary ssl fix\n",
    "ssl._create_default_https_context = ssl._create_unverified_context"
   ]
  },
  {
   "cell_type": "code",
   "execution_count": 4,
   "id": "20dd5865",
   "metadata": {},
   "outputs": [],
   "source": [
    "# grab the table\n",
    "table = pd.read_html(url, attrs={\"class\": \"wikitable\"})"
   ]
  },
  {
   "cell_type": "code",
   "execution_count": 5,
   "id": "c6ee97ed",
   "metadata": {},
   "outputs": [],
   "source": [
    "# make the data frame\n",
    "table = pd.DataFrame(table[0])"
   ]
  },
  {
   "cell_type": "code",
   "execution_count": 6,
   "id": "2d0b2f2e",
   "metadata": {},
   "outputs": [],
   "source": [
    "# get the columns\n",
    "table.columns = table.iloc[1119]"
   ]
  },
  {
   "cell_type": "code",
   "execution_count": 7,
   "id": "a4b9564e",
   "metadata": {
    "scrolled": true
   },
   "outputs": [],
   "source": [
    "# make a slice\n",
    "table = table.iloc[1088:1118, [0,7,8,9,12,13]].copy(deep = True)"
   ]
  },
  {
   "cell_type": "code",
   "execution_count": 8,
   "id": "4a1eed6b",
   "metadata": {
    "scrolled": true
   },
   "outputs": [],
   "source": [
    "# find the democratic advantage\n",
    "table['Partisanship_Elected'] = table['Democrats'].astype(int) - table['Republicans'].astype(int)"
   ]
  },
  {
   "cell_type": "code",
   "execution_count": 9,
   "id": "857b550b",
   "metadata": {},
   "outputs": [
    {
     "name": "stderr",
     "output_type": "stream",
     "text": [
      "C:\\Users\\cmacd\\AppData\\Local\\Temp/ipykernel_8068/3928101674.py:1: FutureWarning: The default value of regex will change from True to False in a future version.\n",
      "  table['President'] = table.President.str.replace('[22]','')\n",
      "C:\\Users\\cmacd\\AppData\\Local\\Temp/ipykernel_8068/3928101674.py:2: FutureWarning: The default value of regex will change from True to False in a future version.\n",
      "  table['President'] = table.President.str.replace('[24]','')\n",
      "C:\\Users\\cmacd\\AppData\\Local\\Temp/ipykernel_8068/3928101674.py:3: FutureWarning: The default value of regex will change from True to False in a future version.\n",
      "  table['Trifecta'] = table.Trifecta.str.replace('[23]','')\n",
      "C:\\Users\\cmacd\\AppData\\Local\\Temp/ipykernel_8068/3928101674.py:4: FutureWarning: The default value of regex will change from True to False in a future version.\n",
      "  table['Trifecta'] = table.Trifecta.str.replace('[25]','')\n",
      "C:\\Users\\cmacd\\AppData\\Local\\Temp/ipykernel_8068/3928101674.py:5: FutureWarning: The default value of regex will change from True to False in a future version.\n",
      "  table['Trifecta'] = table.Trifecta.str.replace('[31]','')\n",
      "C:\\Users\\cmacd\\AppData\\Local\\Temp/ipykernel_8068/3928101674.py:6: FutureWarning: The default value of regex will change from True to False in a future version.\n",
      "  table['Trifecta'] = table.Trifecta.str.replace('[21]','')\n",
      "C:\\Users\\cmacd\\AppData\\Local\\Temp/ipykernel_8068/3928101674.py:7: FutureWarning: The default value of regex will change from True to False in a future version.\n",
      "  table['President'] = table.President.str.replace('[[]]','')\n",
      "C:\\Python39\\lib\\site-packages\\pandas\\core\\strings\\object_array.py:156: FutureWarning: Possible nested set at position 1\n",
      "  pat = re.compile(pat, flags=flags)\n",
      "C:\\Users\\cmacd\\AppData\\Local\\Temp/ipykernel_8068/3928101674.py:8: FutureWarning: The default value of regex will change from True to False in a future version.\n",
      "  table['Trifecta'] = table.Trifecta.str.replace('[[]]','')\n",
      "C:\\Users\\cmacd\\AppData\\Local\\Temp/ipykernel_8068/3928101674.py:12: FutureWarning: The default value of regex will change from True to False in a future version.\n",
      "  table['President'] = table.President.str.replace('Dwight D. Eisenhower','1')\n",
      "C:\\Users\\cmacd\\AppData\\Local\\Temp/ipykernel_8068/3928101674.py:13: FutureWarning: The default value of regex will change from True to False in a future version.\n",
      "  table['President'] = table.President.str.replace('John F. Kennedy','1')\n",
      "C:\\Users\\cmacd\\AppData\\Local\\Temp/ipykernel_8068/3928101674.py:14: FutureWarning: The default value of regex will change from True to False in a future version.\n",
      "  table['President'] = table.President.str.replace('Lyndon B. Johnson','1')\n",
      "C:\\Users\\cmacd\\AppData\\Local\\Temp/ipykernel_8068/3928101674.py:19: FutureWarning: The default value of regex will change from True to False in a future version.\n",
      "  table['President'] = table.President.str.replace('George H. W. Bush','0')\n",
      "C:\\Users\\cmacd\\AppData\\Local\\Temp/ipykernel_8068/3928101674.py:21: FutureWarning: The default value of regex will change from True to False in a future version.\n",
      "  table['President'] = table.President.str.replace('George W. Bush','0')\n"
     ]
    }
   ],
   "source": [
    "# remove the refrences\n",
    "table['President'] = table.President.str.replace('2','')\n",
    "table['President'] = table.President.str.replace('4','')\n",
    "table['Trifecta'] = table.Trifecta.str.replace('3','')\n",
    "table['Trifecta'] = table.Trifecta.str.replace('5','')\n",
    "table['Trifecta'] = table.Trifecta.str.replace('1','')\n",
    "table['President'] = table.President.str.replace('[[]]','')\n",
    "table['Trifecta'] = table.Trifecta.str.replace('[[]]','')\n",
    "\n",
    "# standardize text\n",
    "table['Trifecta'] = table.Trifecta.str.replace('Yes/No','1')\n",
    "table['Trifecta'] = table.Trifecta.str.replace('Yes','2')\n",
    "table['Trifecta'] = table.Trifecta.str.replace('No','0')\n",
    "\n",
    "# deal with presidents\n",
    "table['President'] = table.President.str.replace('Dwight D. Eisenhower','1')\n",
    "table['President'] = table.President.str.replace('John F. Kennedy','1')\n",
    "table['President'] = table.President.str.replace('Lyndon B. Johnson','1')\n",
    "table['President'] = table.President.str.replace('Richard Nixon','0')\n",
    "table['President'] = table.President.str.replace('Gerald Ford','0')\n",
    "table['President'] = table.President.str.replace('Jimmy Carter','1')\n",
    "table['President'] = table.President.str.replace('Ronald Reagan','0')\n",
    "table['President'] = table.President.str.replace('George H. W. Bush','0')\n",
    "table['President'] = table.President.str.replace('Bill Clinton','1')\n",
    "table['President'] = table.President.str.replace('George W. Bush','0')\n",
    "table['President'] = table.President.str.replace('Barack Obama','1')\n",
    "table['President'] = table.President.str.replace('Donald Trump','0')\n",
    "table['President_Democrat'] = table['President']\n",
    "\n",
    "# get rid of alpha charachters, I think this is ultimately faster than using isalpha\n",
    "table['Congress'] = table.Congress.str.replace('th','')\n",
    "table['Congress'] = table.Congress.str.replace('st','')\n",
    "table['Congress'] = table.Congress.str.replace('nd','')\n",
    "table['Congress'] = table.Congress.str.replace('rd','')\n",
    "\n",
    "# data type\n",
    "table['Congress'] = table.Congress.astype(int)\n",
    "table['Partisanship_Elected'] = table.Partisanship_Elected.astype(int)\n",
    "table['President_Democrat'] = table.President_Democrat.astype(int)"
   ]
  },
  {
   "cell_type": "code",
   "execution_count": 10,
   "id": "3250365c",
   "metadata": {},
   "outputs": [],
   "source": [
    "#the even years in this span were midterm elections\n",
    "list_of_midterms = []\n",
    "for i in range(30):\n",
    "    if i%2 == 0:\n",
    "        list_of_midterms.append(1)\n",
    "    else:\n",
    "        list_of_midterms.append(0)"
   ]
  },
  {
   "cell_type": "code",
   "execution_count": 11,
   "id": "69f707d8",
   "metadata": {},
   "outputs": [],
   "source": [
    "# add the values to data frame after making a series\n",
    "series_of_midterms = pd.Series(list_of_midterms)\n",
    "table['Midterm_Next'] = series_of_midterms.values"
   ]
  },
  {
   "cell_type": "code",
   "execution_count": 16,
   "id": "86ac93a8",
   "metadata": {
    "scrolled": true
   },
   "outputs": [],
   "source": [
    "# drop some index and columns\n",
    "table = table.drop(columns = ['Total', 'Democrats', 'Republicans', 'President']).reset_index(drop = True)"
   ]
  },
  {
   "cell_type": "code",
   "execution_count": 17,
   "id": "fc8632cf",
   "metadata": {},
   "outputs": [],
   "source": [
    "# export to data\n",
    "table.to_csv('data/partisan.csv', encoding='utf-8', index=False)"
   ]
  }
 ],
 "metadata": {
  "kernelspec": {
   "display_name": "Python 3 (ipykernel)",
   "language": "python",
   "name": "python3"
  },
  "language_info": {
   "codemirror_mode": {
    "name": "ipython",
    "version": 3
   },
   "file_extension": ".py",
   "mimetype": "text/x-python",
   "name": "python",
   "nbconvert_exporter": "python",
   "pygments_lexer": "ipython3",
   "version": "3.9.7"
  }
 },
 "nbformat": 4,
 "nbformat_minor": 5
}
