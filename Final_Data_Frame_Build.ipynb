{
 "cells": [
  {
   "cell_type": "code",
   "execution_count": 1,
   "id": "a8ee7e40",
   "metadata": {},
   "outputs": [],
   "source": [
    "# first, we import the relevent packages.\n",
    "\n",
    "# for data manipulation\n",
    "import pandas as pd\n",
    "import datetime as dt\n",
    "\n",
    "# to scrape the web\n",
    "from bs4 import BeautifulSoup as soupy\n",
    "import requests\n",
    "import time\n",
    "import random\n",
    "\n",
    "# dealing with consistent ssl error\n",
    "import ssl\n",
    "\n",
    "# for maths\n",
    "import numpy as np\n",
    "import matplotlib.pyplot as plt\n",
    "import seaborn as sns\n",
    "\n",
    "# for writing dictionaries and others as files\n",
    "import json"
   ]
  },
  {
   "cell_type": "code",
   "execution_count": 2,
   "id": "e2fbf492",
   "metadata": {},
   "outputs": [],
   "source": [
    "df = pd.read_csv('main_frame.csv')\n",
    "partisan = pd.read_csv('partisan.csv')\n",
    "approval_1 = pd.read_csv('election_approval.csv')\n",
    "approval_2 = pd.read_csv('current_approval.csv')"
   ]
  },
  {
   "cell_type": "code",
   "execution_count": 3,
   "id": "15915174",
   "metadata": {},
   "outputs": [],
   "source": [
    "df['Election_Year'] = df['Congress_Start'].astype(int) - 1"
   ]
  },
  {
   "cell_type": "code",
   "execution_count": 4,
   "id": "aeb85237",
   "metadata": {},
   "outputs": [],
   "source": [
    "approval_1.set_index('Year', inplace = True)\n",
    "approval_2.set_index('Year', inplace = True)"
   ]
  },
  {
   "cell_type": "code",
   "execution_count": 5,
   "id": "b3e88239",
   "metadata": {},
   "outputs": [],
   "source": [
    "partisan.set_index('Congress', inplace = True)"
   ]
  },
  {
   "cell_type": "code",
   "execution_count": 6,
   "id": "2001e895",
   "metadata": {},
   "outputs": [],
   "source": [
    "df = df.join(partisan, on = 'Congress')"
   ]
  },
  {
   "cell_type": "code",
   "execution_count": 7,
   "id": "dc026386",
   "metadata": {
    "scrolled": true
   },
   "outputs": [],
   "source": [
    "df = df.join(approval_1, on = 'Election_Year')"
   ]
  },
  {
   "cell_type": "code",
   "execution_count": 8,
   "id": "481219b5",
   "metadata": {},
   "outputs": [],
   "source": [
    "df = df.join(approval_2, on = 'Congress_Start')"
   ]
  },
  {
   "cell_type": "code",
   "execution_count": 9,
   "id": "a1314152",
   "metadata": {
    "scrolled": true
   },
   "outputs": [
    {
     "data": {
      "text/plain": [
       "Index(['Representative', 'Party', 'District', 'State', 'Start', 'End',\n",
       "       'Start_Year', 'End_Year', 'Duration', 'Duration_simple', 'Congress',\n",
       "       'Congress_Start', 'Congress_End', 'Incumbancy', 'Election_Year',\n",
       "       'Trifecta', 'Partisanship_Elected', 'President_Democrat',\n",
       "       'Midterm_Next', 'Approval_Election', 'Disapproval_Election',\n",
       "       'Approval_Current', 'Disapproval_Current'],\n",
       "      dtype='object')"
      ]
     },
     "execution_count": 9,
     "metadata": {},
     "output_type": "execute_result"
    }
   ],
   "source": [
    "df.columns"
   ]
  },
  {
   "cell_type": "code",
   "execution_count": 10,
   "id": "008e3823",
   "metadata": {},
   "outputs": [],
   "source": [
    "df = df[df['Congress'] != 87]"
   ]
  },
  {
   "cell_type": "code",
   "execution_count": 11,
   "id": "4b5c0741",
   "metadata": {},
   "outputs": [],
   "source": [
    "df['Reelected'] = df['End_Year'].astype(int) - df['Congress_End'].astype(int)"
   ]
  },
  {
   "cell_type": "code",
   "execution_count": 12,
   "id": "f5beaa39",
   "metadata": {},
   "outputs": [],
   "source": [
    "df= df.drop(columns = ['Start', 'End',\n",
    "                   'Start_Year', 'End_Year',\n",
    "                   'Duration', 'Duration_simple',\n",
    "                   'Congress_Start', 'Congress_End',\n",
    "                   'Election_Year'])"
   ]
  },
  {
   "cell_type": "code",
   "execution_count": 13,
   "id": "2f78852a",
   "metadata": {},
   "outputs": [],
   "source": [
    "df['Party'] = df['Party'].str.replace('Democratic', '1')\n",
    "df['Party'] = df['Party'].str.replace('Republican', '0')"
   ]
  },
  {
   "cell_type": "code",
   "execution_count": 14,
   "id": "d02b3240",
   "metadata": {},
   "outputs": [],
   "source": [
    "df_1  = df[(df['Party'] == '1')]"
   ]
  },
  {
   "cell_type": "code",
   "execution_count": 15,
   "id": "a449209f",
   "metadata": {},
   "outputs": [],
   "source": [
    "df_0 = df[(df['Party'] == '0')]"
   ]
  },
  {
   "cell_type": "code",
   "execution_count": 16,
   "id": "7841eb26",
   "metadata": {},
   "outputs": [],
   "source": [
    "two_dfs = [df_1,df_0]\n",
    "df = pd.concat(two_dfs, axis = 0, ignore_index = True)"
   ]
  },
  {
   "cell_type": "code",
   "execution_count": 17,
   "id": "bd28e826",
   "metadata": {},
   "outputs": [],
   "source": [
    "df['Same_Party'] = df['Party'].astype(int) + df['President_Democrat'].astype(int)"
   ]
  },
  {
   "cell_type": "code",
   "execution_count": 18,
   "id": "249c28a9",
   "metadata": {},
   "outputs": [],
   "source": [
    "df['Same_Party'] = df['Same_Party'].astype(str)\n",
    "df['Same_Party'] = df['Same_Party'].str.replace('1', 'x')\n",
    "df['Same_Party'] = df['Same_Party'].str.replace('2', '1')\n",
    "df['Same_Party'] = df['Same_Party'].str.replace('0', '1')\n",
    "df['Same_Party'] = df['Same_Party'].str.replace('x', '0')"
   ]
  },
  {
   "cell_type": "code",
   "execution_count": 19,
   "id": "651a8feb",
   "metadata": {},
   "outputs": [],
   "source": [
    "for index, row in df.iterrows():\n",
    "    if row['Reelected'] > 0:\n",
    "        df.at[index, 'Reelected'] = 1\n",
    "    else:\n",
    "        df.at[index, 'Reelected'] = 0"
   ]
  },
  {
   "cell_type": "code",
   "execution_count": 20,
   "id": "35698750",
   "metadata": {},
   "outputs": [],
   "source": [
    "# df['District_State'] = df['District'] + ' ' + df['State']"
   ]
  },
  {
   "cell_type": "code",
   "execution_count": 21,
   "id": "230f16e3",
   "metadata": {},
   "outputs": [],
   "source": [
    "# dummy_df = pd.get_dummies(df['District_State'], drop_first=True)"
   ]
  },
  {
   "cell_type": "code",
   "execution_count": 25,
   "id": "46fe5328",
   "metadata": {},
   "outputs": [],
   "source": [
    " final = df"
   ]
  },
  {
   "cell_type": "code",
   "execution_count": 23,
   "id": "7ce07696",
   "metadata": {},
   "outputs": [],
   "source": [
    "# final = final.drop(columns = ['District', 'State', 'Congress'])"
   ]
  },
  {
   "cell_type": "code",
   "execution_count": 26,
   "id": "c0ac5a04",
   "metadata": {},
   "outputs": [],
   "source": [
    "final.to_csv('final.csv', encoding='utf-8', index=False)"
   ]
  },
  {
   "cell_type": "code",
   "execution_count": null,
   "id": "0752a881",
   "metadata": {
    "scrolled": true
   },
   "outputs": [],
   "source": [
    "final"
   ]
  }
 ],
 "metadata": {
  "kernelspec": {
   "display_name": "Python 3 (ipykernel)",
   "language": "python",
   "name": "python3"
  },
  "language_info": {
   "codemirror_mode": {
    "name": "ipython",
    "version": 3
   },
   "file_extension": ".py",
   "mimetype": "text/x-python",
   "name": "python",
   "nbconvert_exporter": "python",
   "pygments_lexer": "ipython3",
   "version": "3.9.7"
  }
 },
 "nbformat": 4,
 "nbformat_minor": 5
}
