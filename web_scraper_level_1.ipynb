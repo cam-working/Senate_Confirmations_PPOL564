{
 "cells": [
  {
   "cell_type": "markdown",
   "id": "f706b3d2",
   "metadata": {},
   "source": [
    "This python file scrapes a wikipedia page for the list of urls it returns a dictionary of format, congressional district name: 'url'"
   ]
  },
  {
   "cell_type": "code",
   "execution_count": 1,
   "id": "751ff0ac",
   "metadata": {},
   "outputs": [],
   "source": [
    "# import the relevant packages\n",
    "\n",
    "# for getting the connection\n",
    "import requests\n",
    "\n",
    "# for data frame manipulation\n",
    "import pandas as pd\n",
    "\n",
    "# for the actual scraping\n",
    "from bs4 import BeautifulSoup as soupy\n",
    "\n",
    "# for maths\n",
    "import numpy as np\n",
    "\n",
    "# for writing dictionary to text file\n",
    "import json "
   ]
  },
  {
   "cell_type": "code",
   "execution_count": 2,
   "id": "9a06c9fd",
   "metadata": {},
   "outputs": [],
   "source": [
    "# set url to scrape the complete list of US congressional districts\n",
    "url = \"https://en.wikipedia.org/wiki/List_of_United_States_congressional_districts\""
   ]
  },
  {
   "cell_type": "code",
   "execution_count": 3,
   "id": "7070dc69",
   "metadata": {},
   "outputs": [],
   "source": [
    "# connect to page to get information\n",
    "page = requests.get(url)"
   ]
  },
  {
   "cell_type": "code",
   "execution_count": 4,
   "id": "0b008c85",
   "metadata": {},
   "outputs": [
    {
     "data": {
      "text/plain": [
       "200"
      ]
     },
     "execution_count": 4,
     "metadata": {},
     "output_type": "execute_result"
    }
   ],
   "source": [
    "# confirm that we have a connection, we want output to be 200\n",
    "page.status_code"
   ]
  },
  {
   "cell_type": "code",
   "execution_count": 5,
   "id": "e95b4934",
   "metadata": {},
   "outputs": [],
   "source": [
    "# get the readable html\n",
    "readable = soupy(page.content, 'html.parser')"
   ]
  },
  {
   "cell_type": "code",
   "execution_count": 6,
   "id": "f29ade6f",
   "metadata": {},
   "outputs": [],
   "source": [
    "# create an empty list for the URLs\n",
    "list_of_urls = []"
   ]
  },
  {
   "cell_type": "code",
   "execution_count": 7,
   "id": "970cd1c8",
   "metadata": {},
   "outputs": [],
   "source": [
    "# find all links using the a tag where it is an href\n",
    "href_all = readable.find_all('a', href=True)"
   ]
  },
  {
   "cell_type": "code",
   "execution_count": 8,
   "id": "345f3bbd",
   "metadata": {},
   "outputs": [
    {
     "data": {
      "text/plain": [
       "2574"
      ]
     },
     "execution_count": 8,
     "metadata": {},
     "output_type": "execute_result"
    }
   ],
   "source": [
    "len(href_all)"
   ]
  },
  {
   "cell_type": "code",
   "execution_count": 9,
   "id": "75206424",
   "metadata": {},
   "outputs": [],
   "source": [
    "href_identifier = 'congressional_district'"
   ]
  },
  {
   "cell_type": "code",
   "execution_count": 10,
   "id": "d8c507ef",
   "metadata": {},
   "outputs": [],
   "source": [
    "href_subset = [a for a in href_all if href_identifier in a['href']]"
   ]
  },
  {
   "cell_type": "code",
   "execution_count": 11,
   "id": "bd7b3889",
   "metadata": {},
   "outputs": [
    {
     "data": {
      "text/plain": [
       "1282"
      ]
     },
     "execution_count": 11,
     "metadata": {},
     "output_type": "execute_result"
    }
   ],
   "source": [
    "len(href_subset)"
   ]
  },
  {
   "cell_type": "code",
   "execution_count": 12,
   "id": "4fc4cb87",
   "metadata": {},
   "outputs": [],
   "source": [
    "stop1 = 'United_States'"
   ]
  },
  {
   "cell_type": "code",
   "execution_count": 13,
   "id": "e28a1df4",
   "metadata": {},
   "outputs": [],
   "source": [
    "href_subset = [a for a in href_subset if stop1 not in a['href']]"
   ]
  },
  {
   "cell_type": "code",
   "execution_count": 14,
   "id": "bb4da66e",
   "metadata": {},
   "outputs": [
    {
     "data": {
      "text/plain": [
       "1194"
      ]
     },
     "execution_count": 14,
     "metadata": {},
     "output_type": "execute_result"
    }
   ],
   "source": [
    "len(href_subset)"
   ]
  },
  {
   "cell_type": "code",
   "execution_count": 15,
   "id": "2e4886f6",
   "metadata": {},
   "outputs": [],
   "source": [
    "stop2 = 'File'"
   ]
  },
  {
   "cell_type": "code",
   "execution_count": 16,
   "id": "a02b39b4",
   "metadata": {},
   "outputs": [],
   "source": [
    "href_subset = [a for a in href_subset if stop2 not in a['href']]"
   ]
  },
  {
   "cell_type": "code",
   "execution_count": 17,
   "id": "ed0cc0a2",
   "metadata": {},
   "outputs": [
    {
     "data": {
      "text/plain": [
       "1190"
      ]
     },
     "execution_count": 17,
     "metadata": {},
     "output_type": "execute_result"
    }
   ],
   "source": [
    "len(href_subset)"
   ]
  },
  {
   "cell_type": "code",
   "execution_count": 18,
   "id": "712e3658",
   "metadata": {},
   "outputs": [],
   "source": [
    "stop3 = 'Territory'"
   ]
  },
  {
   "cell_type": "code",
   "execution_count": 19,
   "id": "817cb9cf",
   "metadata": {},
   "outputs": [],
   "source": [
    "href_subset = [a for a in href_subset if stop3 not in a['href']]"
   ]
  },
  {
   "cell_type": "code",
   "execution_count": 20,
   "id": "efc06432",
   "metadata": {},
   "outputs": [],
   "source": [
    "stop4 = 'districts'"
   ]
  },
  {
   "cell_type": "code",
   "execution_count": 21,
   "id": "3495a60b",
   "metadata": {
    "scrolled": true
   },
   "outputs": [
    {
     "data": {
      "text/plain": [
       "1155"
      ]
     },
     "execution_count": 21,
     "metadata": {},
     "output_type": "execute_result"
    }
   ],
   "source": [
    "len(href_subset)"
   ]
  },
  {
   "cell_type": "code",
   "execution_count": 22,
   "id": "1dca9215",
   "metadata": {},
   "outputs": [],
   "source": [
    "title_identifier = 'district'"
   ]
  },
  {
   "cell_type": "code",
   "execution_count": 23,
   "id": "1ca29242",
   "metadata": {},
   "outputs": [],
   "source": [
    "dict_1 = {}"
   ]
  },
  {
   "cell_type": "code",
   "execution_count": 24,
   "id": "36e13969",
   "metadata": {},
   "outputs": [],
   "source": [
    "dict_1 = {a['title']: (\"https://en.wikipedia.org/\" + str(a['href'])) for a in href_subset if (title_identifier in a['title']) and 'obsolete' not in a['title'] and 'districts' not in a['title']}"
   ]
  },
  {
   "cell_type": "code",
   "execution_count": 25,
   "id": "b74236f5",
   "metadata": {},
   "outputs": [
    {
     "data": {
      "text/plain": [
       "649"
      ]
     },
     "execution_count": 25,
     "metadata": {},
     "output_type": "execute_result"
    }
   ],
   "source": [
    "len(dict_1)"
   ]
  },
  {
   "cell_type": "code",
   "execution_count": 26,
   "id": "a524ecd9",
   "metadata": {},
   "outputs": [],
   "source": [
    "with open('url_district_dict_1.txt', 'w') as convert_file:\n",
    "     convert_file.write(json.dumps(dict_1))"
   ]
  }
 ],
 "metadata": {
  "kernelspec": {
   "display_name": "Python 3 (ipykernel)",
   "language": "python",
   "name": "python3"
  },
  "language_info": {
   "codemirror_mode": {
    "name": "ipython",
    "version": 3
   },
   "file_extension": ".py",
   "mimetype": "text/x-python",
   "name": "python",
   "nbconvert_exporter": "python",
   "pygments_lexer": "ipython3",
   "version": "3.9.7"
  }
 },
 "nbformat": 4,
 "nbformat_minor": 5
}
