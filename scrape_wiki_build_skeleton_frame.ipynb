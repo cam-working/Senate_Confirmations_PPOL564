{
 "cells": [
  {
   "cell_type": "code",
   "execution_count": 1,
   "id": "ffced844",
   "metadata": {},
   "outputs": [],
   "source": [
    "# first, we import the relevent packages.\n",
    "\n",
    "# for data manipulation\n",
    "import pandas as pd\n",
    "import datetime as dt\n",
    "\n",
    "# to scrape the web\n",
    "from bs4 import BeautifulSoup as soupy\n",
    "import requests\n",
    "import time\n",
    "import random\n",
    "\n",
    "# dealing with consistent ssl error\n",
    "import ssl\n",
    "\n",
    "# for maths\n",
    "import numpy as np\n",
    "import matplotlib.pyplot as plt\n",
    "import seaborn as sns\n",
    "\n",
    "# for writing dictionaries and others as files\n",
    "import json"
   ]
  },
  {
   "cell_type": "code",
   "execution_count": 2,
   "id": "76a5a2da",
   "metadata": {},
   "outputs": [],
   "source": [
    "# set the url for the site with the states\n",
    "states_url = 'https://state.1keydata.com'"
   ]
  },
  {
   "cell_type": "code",
   "execution_count": 3,
   "id": "c67a3245",
   "metadata": {},
   "outputs": [
    {
     "name": "stderr",
     "output_type": "stream",
     "text": [
      "C:\\Python39\\lib\\site-packages\\urllib3\\connectionpool.py:1013: InsecureRequestWarning: Unverified HTTPS request is being made to host 'state.1keydata.com'. Adding certificate verification is strongly advised. See: https://urllib3.readthedocs.io/en/1.26.x/advanced-usage.html#ssl-warnings\n",
      "  warnings.warn(\n"
     ]
    }
   ],
   "source": [
    "# make a connection to the page\n",
    "states_page = requests.get(states_url, verify=False)"
   ]
  },
  {
   "cell_type": "code",
   "execution_count": 4,
   "id": "ec7dd110",
   "metadata": {},
   "outputs": [
    {
     "data": {
      "text/plain": [
       "200"
      ]
     },
     "execution_count": 4,
     "metadata": {},
     "output_type": "execute_result"
    }
   ],
   "source": [
    "# verify the connection\n",
    "states_page.status_code"
   ]
  },
  {
   "cell_type": "code",
   "execution_count": 5,
   "id": "a45c28ee",
   "metadata": {},
   "outputs": [],
   "source": [
    "# get the actual html content\n",
    "states_readable = soupy(states_page.content, 'html')"
   ]
  },
  {
   "cell_type": "code",
   "execution_count": 6,
   "id": "60d41ccb",
   "metadata": {},
   "outputs": [],
   "source": [
    "# now we need to initialize a list to store the states\n",
    "# we initialize a list with 50 none values\n",
    "# this makes it much faster to insert the value into the list\n",
    "list_of_states = [None] * 50"
   ]
  },
  {
   "cell_type": "code",
   "execution_count": 7,
   "id": "0257bfb6",
   "metadata": {},
   "outputs": [],
   "source": [
    "# now we find all the href tags \n",
    "subset_states_readable = states_readable.find('div', {'id' : 'colwrap'})\n",
    "href_all = subset_states_readable.find_all('a', href=True)"
   ]
  },
  {
   "cell_type": "code",
   "execution_count": 8,
   "id": "bf219fa5",
   "metadata": {},
   "outputs": [],
   "source": [
    "# then we get the text for each of the a tag values\n",
    "for index, state in enumerate(href_all):\n",
    "    value = state.text\n",
    "    value = value.replace(' ', '_')\n",
    "    list_of_states[index] = value"
   ]
  },
  {
   "cell_type": "code",
   "execution_count": 9,
   "id": "099f41ae",
   "metadata": {},
   "outputs": [],
   "source": [
    "# we use a list comprehension to create the urls\n",
    "list_of_states = [['https://en.wikipedia.org/wiki/List_of_United_States_representatives_from_' + a, a] for a in list_of_states]"
   ]
  },
  {
   "cell_type": "code",
   "execution_count": 10,
   "id": "07685d53",
   "metadata": {},
   "outputs": [],
   "source": [
    "# temporary ssl fix\n",
    "ssl._create_default_https_context = ssl._create_unverified_context"
   ]
  },
  {
   "cell_type": "code",
   "execution_count": 11,
   "id": "3aeca454",
   "metadata": {},
   "outputs": [],
   "source": [
    "# initialize a list for our pandas dataframes\n",
    "# this is more efficient than appending multiple data frames\n",
    "list_of_data_frames = [None] * 50\n",
    "# get each table as a pandas data frame\n",
    "# store it in the list\n",
    "for index, (url, state) in enumerate(list_of_states):\n",
    "    sleep = 4\n",
    "    try:\n",
    "        table = pd.read_html(url)[0].iloc[:,[0,1,2,3]]\n",
    "        table.rename({table.columns[0]: 'Representative'}, axis = 'columns', inplace = True)\n",
    "        for i in range(1,4):\n",
    "            if 'Democratic' in table.iloc[:,i].values:\n",
    "                table.rename({table.columns[i]: 'Party'}, axis = 'columns', inplace = True)\n",
    "            elif ('1st' or 'At-large') in table.iloc[:,i].values:\n",
    "                table.rename({table.columns[i]: 'District'}, axis = 'columns', inplace = True)\n",
    "            else:\n",
    "                table.rename({table.columns[i]: 'Years'}, axis = 'columns', inplace = True)\n",
    "        table['State'] = state\n",
    "        table[['Start', 'End']] = table['Years'].str.split('–' or '-', expand = True)\n",
    "        table = table.drop(columns = 'Years')\n",
    "        table['Start'] = table['Start'].str.strip()\n",
    "        table['End'] = table['End'].str.strip()\n",
    "        table['Start'] = pd.to_datetime(table['Start'], errors='coerce')\n",
    "        table['End'] = table['End'].replace(['Present', 'present'], 'November 28, 2021')\n",
    "        table['End'] = pd.to_datetime(table['End'], errors='coerce')\n",
    "        list_of_data_frames[index] = table\n",
    "        time.sleep(random.uniform(0,sleep))\n",
    "    except:\n",
    "        time.sleep(random.uniform(0,sleep))\n",
    "        pass"
   ]
  },
  {
   "cell_type": "code",
   "execution_count": 12,
   "id": "224660d6",
   "metadata": {},
   "outputs": [],
   "source": [
    "res = [i for i in range(len(list_of_data_frames)) if list_of_data_frames[i] is None]"
   ]
  },
  {
   "cell_type": "code",
   "execution_count": 13,
   "id": "3e10e6a3",
   "metadata": {},
   "outputs": [
    {
     "data": {
      "text/plain": [
       "[1, 7, 9, 10, 15, 18, 27, 49]"
      ]
     },
     "execution_count": 13,
     "metadata": {},
     "output_type": "execute_result"
    }
   ],
   "source": [
    "# this is a list of indexes where we did not store a dataframe\n",
    "# we will have to go back and scrape these values individually\n",
    "res"
   ]
  },
  {
   "cell_type": "code",
   "execution_count": 14,
   "id": "8546f39e",
   "metadata": {},
   "outputs": [],
   "source": [
    "skel = pd.concat(list_of_data_frames, axis = 0, ignore_index = True)"
   ]
  },
  {
   "cell_type": "code",
   "execution_count": 15,
   "id": "45f65830",
   "metadata": {},
   "outputs": [],
   "source": [
    "skel = skel[skel['Start'].isnull() == False]"
   ]
  },
  {
   "cell_type": "code",
   "execution_count": 16,
   "id": "4b2fb821",
   "metadata": {},
   "outputs": [],
   "source": [
    "skel = skel[skel['End'].isnull() == False]"
   ]
  },
  {
   "cell_type": "code",
   "execution_count": 17,
   "id": "bd08364d",
   "metadata": {},
   "outputs": [],
   "source": [
    "skel['Start_Year'] = skel['Start'].dt.year"
   ]
  },
  {
   "cell_type": "code",
   "execution_count": 18,
   "id": "7bf9e9af",
   "metadata": {},
   "outputs": [],
   "source": [
    "skel['End_Year'] = skel['End'].dt.year"
   ]
  },
  {
   "cell_type": "code",
   "execution_count": 19,
   "id": "7fae0576",
   "metadata": {},
   "outputs": [],
   "source": [
    "skel['Duration'] = skel['End'] - skel['Start']"
   ]
  },
  {
   "cell_type": "code",
   "execution_count": 20,
   "id": "8b1be110",
   "metadata": {},
   "outputs": [],
   "source": [
    "skel['Duration_simple'] = pd.Series(skel['Duration']).dt.days/365"
   ]
  },
  {
   "cell_type": "code",
   "execution_count": 21,
   "id": "333a5177",
   "metadata": {},
   "outputs": [],
   "source": [
    "dict_1 = {}\n",
    "year_init = 1789"
   ]
  },
  {
   "cell_type": "code",
   "execution_count": 22,
   "id": "1a23b44a",
   "metadata": {},
   "outputs": [],
   "source": [
    "for i in range(1, 117):\n",
    "    dict_1[i] = year_init\n",
    "    year_init = year_init + 2"
   ]
  },
  {
   "cell_type": "code",
   "execution_count": 23,
   "id": "8f77d355",
   "metadata": {},
   "outputs": [
    {
     "name": "stderr",
     "output_type": "stream",
     "text": [
      "C:\\Users\\cmacd\\AppData\\Local\\Temp/ipykernel_2256/2980589466.py:2: PerformanceWarning: DataFrame is highly fragmented.  This is usually the result of calling `frame.insert` many times, which has poor performance.  Consider joining all columns at once using pd.concat(axis=1) instead.  To get a de-fragmented frame, use `newframe = frame.copy()`\n",
      "  skel[str(congress)] = \"\"\n"
     ]
    }
   ],
   "source": [
    "for congress, year in dict_1.items():\n",
    "    skel[str(congress)] = \"\""
   ]
  },
  {
   "cell_type": "code",
   "execution_count": 24,
   "id": "8af3dd9f",
   "metadata": {},
   "outputs": [],
   "source": [
    "for index, row in skel.iterrows():\n",
    "    for congress, year in dict_1.items():\n",
    "        if row['Start'].year <= year:\n",
    "            if row['End'].year > (year + 1):\n",
    "                skel.at[index,str(congress)] = 1\n",
    "            else:\n",
    "                skel.at[index,str(congress)] = 0\n",
    "        else:\n",
    "            skel.at[index,str(congress)] = 0"
   ]
  },
  {
   "cell_type": "code",
   "execution_count": 25,
   "id": "9512fab3",
   "metadata": {},
   "outputs": [],
   "source": [
    "list_of_dfs = []"
   ]
  },
  {
   "cell_type": "code",
   "execution_count": 26,
   "id": "d3d6a26e",
   "metadata": {},
   "outputs": [],
   "source": [
    "relevant_congresses = list(dict_1.keys())\n",
    "relevant_congresses = [str(x) for x in relevant_congresses]"
   ]
  },
  {
   "cell_type": "code",
   "execution_count": 27,
   "id": "04a3a097",
   "metadata": {},
   "outputs": [],
   "source": [
    "for congress, year in dict_1.items():\n",
    "    if (year >=1960) and (year<2019):\n",
    "        df = skel[skel[str(congress)] == 1.0].copy(deep=True)\n",
    "        df['Congress'] = congress\n",
    "        df['Congress_Start'] = year\n",
    "        df['Congress_End'] = year + 2\n",
    "        df = df.drop(columns = relevant_congresses)\n",
    "        df = df.reset_index()\n",
    "        \n",
    "        list_of_dfs.append(df)"
   ]
  },
  {
   "cell_type": "code",
   "execution_count": 28,
   "id": "ecb05e86",
   "metadata": {},
   "outputs": [],
   "source": [
    "skel = pd.concat(list_of_dfs, ignore_index = True)"
   ]
  },
  {
   "cell_type": "code",
   "execution_count": 29,
   "id": "503ea1a9",
   "metadata": {},
   "outputs": [],
   "source": [
    "skel = skel.drop(columns = ['index'])\n",
    "skel['Incumbancy'] = skel['Congress_Start'].astype(int) - skel['Start_Year'].astype(int)"
   ]
  },
  {
   "cell_type": "code",
   "execution_count": 30,
   "id": "2bb0f161",
   "metadata": {},
   "outputs": [
    {
     "data": {
      "text/html": [
       "<div>\n",
       "<style scoped>\n",
       "    .dataframe tbody tr th:only-of-type {\n",
       "        vertical-align: middle;\n",
       "    }\n",
       "\n",
       "    .dataframe tbody tr th {\n",
       "        vertical-align: top;\n",
       "    }\n",
       "\n",
       "    .dataframe thead th {\n",
       "        text-align: right;\n",
       "    }\n",
       "</style>\n",
       "<table border=\"1\" class=\"dataframe\">\n",
       "  <thead>\n",
       "    <tr style=\"text-align: right;\">\n",
       "      <th></th>\n",
       "      <th>Representative</th>\n",
       "      <th>Party</th>\n",
       "      <th>District</th>\n",
       "      <th>State</th>\n",
       "      <th>Start</th>\n",
       "      <th>End</th>\n",
       "      <th>Start_Year</th>\n",
       "      <th>End_Year</th>\n",
       "      <th>Duration</th>\n",
       "      <th>Duration_simple</th>\n",
       "      <th>Congress</th>\n",
       "      <th>Congress_Start</th>\n",
       "      <th>Congress_End</th>\n",
       "      <th>Incumbancy</th>\n",
       "    </tr>\n",
       "  </thead>\n",
       "  <tbody>\n",
       "    <tr>\n",
       "      <th>0</th>\n",
       "      <td>George W. Andrews</td>\n",
       "      <td>Democratic</td>\n",
       "      <td>3rd</td>\n",
       "      <td>Alabama</td>\n",
       "      <td>1944-03-14</td>\n",
       "      <td>1963-01-03</td>\n",
       "      <td>1944</td>\n",
       "      <td>1963</td>\n",
       "      <td>6869 days</td>\n",
       "      <td>18.819178</td>\n",
       "      <td>87</td>\n",
       "      <td>1961</td>\n",
       "      <td>1963</td>\n",
       "      <td>17</td>\n",
       "    </tr>\n",
       "    <tr>\n",
       "      <th>1</th>\n",
       "      <td>Frank W. Boykin</td>\n",
       "      <td>Democratic</td>\n",
       "      <td>1st</td>\n",
       "      <td>Alabama</td>\n",
       "      <td>1935-07-30</td>\n",
       "      <td>1963-01-03</td>\n",
       "      <td>1935</td>\n",
       "      <td>1963</td>\n",
       "      <td>10019 days</td>\n",
       "      <td>27.449315</td>\n",
       "      <td>87</td>\n",
       "      <td>1961</td>\n",
       "      <td>1963</td>\n",
       "      <td>26</td>\n",
       "    </tr>\n",
       "    <tr>\n",
       "      <th>2</th>\n",
       "      <td>Carl Elliott</td>\n",
       "      <td>Democratic</td>\n",
       "      <td>7th</td>\n",
       "      <td>Alabama</td>\n",
       "      <td>1949-01-03</td>\n",
       "      <td>1963-01-03</td>\n",
       "      <td>1949</td>\n",
       "      <td>1963</td>\n",
       "      <td>5113 days</td>\n",
       "      <td>14.008219</td>\n",
       "      <td>87</td>\n",
       "      <td>1961</td>\n",
       "      <td>1963</td>\n",
       "      <td>12</td>\n",
       "    </tr>\n",
       "    <tr>\n",
       "      <th>3</th>\n",
       "      <td>George M. Grant</td>\n",
       "      <td>Democratic</td>\n",
       "      <td>2nd</td>\n",
       "      <td>Alabama</td>\n",
       "      <td>1938-06-14</td>\n",
       "      <td>1963-01-03</td>\n",
       "      <td>1938</td>\n",
       "      <td>1963</td>\n",
       "      <td>8969 days</td>\n",
       "      <td>24.572603</td>\n",
       "      <td>87</td>\n",
       "      <td>1961</td>\n",
       "      <td>1963</td>\n",
       "      <td>23</td>\n",
       "    </tr>\n",
       "    <tr>\n",
       "      <th>4</th>\n",
       "      <td>George Huddleston Jr.</td>\n",
       "      <td>Democratic</td>\n",
       "      <td>9th</td>\n",
       "      <td>Alabama</td>\n",
       "      <td>1955-01-03</td>\n",
       "      <td>1963-01-03</td>\n",
       "      <td>1955</td>\n",
       "      <td>1963</td>\n",
       "      <td>2922 days</td>\n",
       "      <td>8.005479</td>\n",
       "      <td>87</td>\n",
       "      <td>1961</td>\n",
       "      <td>1963</td>\n",
       "      <td>6</td>\n",
       "    </tr>\n",
       "    <tr>\n",
       "      <th>...</th>\n",
       "      <td>...</td>\n",
       "      <td>...</td>\n",
       "      <td>...</td>\n",
       "      <td>...</td>\n",
       "      <td>...</td>\n",
       "      <td>...</td>\n",
       "      <td>...</td>\n",
       "      <td>...</td>\n",
       "      <td>...</td>\n",
       "      <td>...</td>\n",
       "      <td>...</td>\n",
       "      <td>...</td>\n",
       "      <td>...</td>\n",
       "      <td>...</td>\n",
       "    </tr>\n",
       "    <tr>\n",
       "      <th>11636</th>\n",
       "      <td>Ron Kind</td>\n",
       "      <td>Democratic</td>\n",
       "      <td>3rd</td>\n",
       "      <td>Wisconsin</td>\n",
       "      <td>1997-01-03</td>\n",
       "      <td>2021-11-28</td>\n",
       "      <td>1997</td>\n",
       "      <td>2021</td>\n",
       "      <td>9095 days</td>\n",
       "      <td>24.917808</td>\n",
       "      <td>115</td>\n",
       "      <td>2017</td>\n",
       "      <td>2019</td>\n",
       "      <td>20</td>\n",
       "    </tr>\n",
       "    <tr>\n",
       "      <th>11637</th>\n",
       "      <td>Gwen Moore</td>\n",
       "      <td>Democratic</td>\n",
       "      <td>4th</td>\n",
       "      <td>Wisconsin</td>\n",
       "      <td>2005-01-03</td>\n",
       "      <td>2021-11-28</td>\n",
       "      <td>2005</td>\n",
       "      <td>2021</td>\n",
       "      <td>6173 days</td>\n",
       "      <td>16.912329</td>\n",
       "      <td>115</td>\n",
       "      <td>2017</td>\n",
       "      <td>2019</td>\n",
       "      <td>12</td>\n",
       "    </tr>\n",
       "    <tr>\n",
       "      <th>11638</th>\n",
       "      <td>Mark Pocan</td>\n",
       "      <td>Democratic</td>\n",
       "      <td>2nd</td>\n",
       "      <td>Wisconsin</td>\n",
       "      <td>2013-01-03</td>\n",
       "      <td>2021-11-28</td>\n",
       "      <td>2013</td>\n",
       "      <td>2021</td>\n",
       "      <td>3251 days</td>\n",
       "      <td>8.906849</td>\n",
       "      <td>115</td>\n",
       "      <td>2017</td>\n",
       "      <td>2019</td>\n",
       "      <td>4</td>\n",
       "    </tr>\n",
       "    <tr>\n",
       "      <th>11639</th>\n",
       "      <td>Paul Ryan</td>\n",
       "      <td>Republican</td>\n",
       "      <td>1st</td>\n",
       "      <td>Wisconsin</td>\n",
       "      <td>1999-01-03</td>\n",
       "      <td>2019-01-03</td>\n",
       "      <td>1999</td>\n",
       "      <td>2019</td>\n",
       "      <td>7305 days</td>\n",
       "      <td>20.013699</td>\n",
       "      <td>115</td>\n",
       "      <td>2017</td>\n",
       "      <td>2019</td>\n",
       "      <td>18</td>\n",
       "    </tr>\n",
       "    <tr>\n",
       "      <th>11640</th>\n",
       "      <td>Jim Sensenbrenner</td>\n",
       "      <td>Republican</td>\n",
       "      <td>5th</td>\n",
       "      <td>Wisconsin</td>\n",
       "      <td>2003-01-03</td>\n",
       "      <td>2021-01-03</td>\n",
       "      <td>2003</td>\n",
       "      <td>2021</td>\n",
       "      <td>6575 days</td>\n",
       "      <td>18.013699</td>\n",
       "      <td>115</td>\n",
       "      <td>2017</td>\n",
       "      <td>2019</td>\n",
       "      <td>14</td>\n",
       "    </tr>\n",
       "  </tbody>\n",
       "</table>\n",
       "<p>11641 rows × 14 columns</p>\n",
       "</div>"
      ],
      "text/plain": [
       "              Representative       Party District      State      Start  \\\n",
       "0          George W. Andrews  Democratic      3rd    Alabama 1944-03-14   \n",
       "1            Frank W. Boykin  Democratic      1st    Alabama 1935-07-30   \n",
       "2               Carl Elliott  Democratic      7th    Alabama 1949-01-03   \n",
       "3            George M. Grant  Democratic      2nd    Alabama 1938-06-14   \n",
       "4      George Huddleston Jr.  Democratic      9th    Alabama 1955-01-03   \n",
       "...                      ...         ...      ...        ...        ...   \n",
       "11636               Ron Kind  Democratic      3rd  Wisconsin 1997-01-03   \n",
       "11637             Gwen Moore  Democratic      4th  Wisconsin 2005-01-03   \n",
       "11638             Mark Pocan  Democratic      2nd  Wisconsin 2013-01-03   \n",
       "11639              Paul Ryan  Republican      1st  Wisconsin 1999-01-03   \n",
       "11640      Jim Sensenbrenner  Republican      5th  Wisconsin 2003-01-03   \n",
       "\n",
       "             End  Start_Year  End_Year   Duration  Duration_simple  Congress  \\\n",
       "0     1963-01-03        1944      1963  6869 days        18.819178        87   \n",
       "1     1963-01-03        1935      1963 10019 days        27.449315        87   \n",
       "2     1963-01-03        1949      1963  5113 days        14.008219        87   \n",
       "3     1963-01-03        1938      1963  8969 days        24.572603        87   \n",
       "4     1963-01-03        1955      1963  2922 days         8.005479        87   \n",
       "...          ...         ...       ...        ...              ...       ...   \n",
       "11636 2021-11-28        1997      2021  9095 days        24.917808       115   \n",
       "11637 2021-11-28        2005      2021  6173 days        16.912329       115   \n",
       "11638 2021-11-28        2013      2021  3251 days         8.906849       115   \n",
       "11639 2019-01-03        1999      2019  7305 days        20.013699       115   \n",
       "11640 2021-01-03        2003      2021  6575 days        18.013699       115   \n",
       "\n",
       "       Congress_Start  Congress_End  Incumbancy  \n",
       "0                1961          1963          17  \n",
       "1                1961          1963          26  \n",
       "2                1961          1963          12  \n",
       "3                1961          1963          23  \n",
       "4                1961          1963           6  \n",
       "...               ...           ...         ...  \n",
       "11636            2017          2019          20  \n",
       "11637            2017          2019          12  \n",
       "11638            2017          2019           4  \n",
       "11639            2017          2019          18  \n",
       "11640            2017          2019          14  \n",
       "\n",
       "[11641 rows x 14 columns]"
      ]
     },
     "execution_count": 30,
     "metadata": {},
     "output_type": "execute_result"
    }
   ],
   "source": [
    "skel"
   ]
  },
  {
   "cell_type": "code",
   "execution_count": 31,
   "id": "f1bc3e6b",
   "metadata": {},
   "outputs": [],
   "source": [
    "skel.to_csv('main_frame.csv', encoding='utf-8', index=False)"
   ]
  }
 ],
 "metadata": {
  "kernelspec": {
   "display_name": "Python 3 (ipykernel)",
   "language": "python",
   "name": "python3"
  },
  "language_info": {
   "codemirror_mode": {
    "name": "ipython",
    "version": 3
   },
   "file_extension": ".py",
   "mimetype": "text/x-python",
   "name": "python",
   "nbconvert_exporter": "python",
   "pygments_lexer": "ipython3",
   "version": "3.9.7"
  }
 },
 "nbformat": 4,
 "nbformat_minor": 5
}
